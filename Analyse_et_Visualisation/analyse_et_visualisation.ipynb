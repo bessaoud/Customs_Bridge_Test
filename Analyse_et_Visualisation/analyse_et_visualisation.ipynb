{
  "cells": [
    {
      "cell_type": "code",
      "execution_count": 37,
      "metadata": {
        "id": "ML2jBC-HSYY2"
      },
      "outputs": [],
      "source": [
        "# Importation des librairies \n",
        "import os\n",
        "import pandas as pd\n",
        "import numpy as np\n",
        "import plotly.express as px\n",
        "import seaborn as sns\n",
        "import random"
      ]
    },
    {
      "cell_type": "code",
      "execution_count": 93,
      "metadata": {
        "id": "ICvnbqsfht0F"
      },
      "outputs": [],
      "source": [
        "# Importation des données\n",
        "Code_Disponible = pd.read_csv('codes disponibles.csv')\n",
        "Tout_Les_Codes = pd.read_csv('tous les codes.csv')"
      ]
    },
    {
      "cell_type": "code",
      "execution_count": 9,
      "metadata": {
        "colab": {
          "base_uri": "https://localhost:8080/"
        },
        "id": "rhEuCjy1UI_Y",
        "outputId": "42688214-0cbb-45c6-bac0-ef4a11770da9"
      },
      "outputs": [
        {
          "name": "stdout",
          "output_type": "stream",
          "text": [
            " - Il y a 0 valeur manquantes dans la base de données Tout_Les_Codes \n",
            " - Il y a 0 valeur manquantes dans la base de données Code_Disponible \n"
          ]
        }
      ],
      "source": [
        "# Véréfication des valeurs manquantes NA \n",
        "print(\" - Il y a {} valeur manquantes dans la base de données Tout_Les_Codes \".format(Tout_Les_Codes['codes'].isna().sum()))\n",
        "print(\" - Il y a {} valeur manquantes dans la base de données Code_Disponible \".format(Code_Disponible['codes'].isna().sum()))"
      ]
    },
    {
      "cell_type": "markdown",
      "metadata": {
        "id": "psjXncokhwDp"
      },
      "source": [
        "\n",
        "1. Création d'une fonction Python qui permet de calculer le pourcentage des \"codes disponible\" par rapport à nos données nommée \"tous les codes\"."
      ]
    },
    {
      "cell_type": "code",
      "execution_count": 14,
      "metadata": {
        "colab": {
          "base_uri": "https://localhost:8080/"
        },
        "id": "PBKZwEb3bM78",
        "outputId": "f14ddefb-3075-4649-8a4a-4c5f23c2998a"
      },
      "outputs": [
        {
          "name": "stdout",
          "output_type": "stream",
          "text": [
            " Le pourcentage de codes disponibles par rapport à tous les codes est 18.97 %\n"
          ]
        }
      ],
      "source": [
        "# Calcul de valeurs uniques qui se trouvent dans les deux dataset\\\\\n",
        "# \"Code_Disponible\" et \"Tout_Les_Codes\"\n",
        "n_tt_cd = Tout_Les_Codes['codes'].nunique()\n",
        "n_cd_d = Code_Disponible['codes'].nunique()\n",
        "# Le pourcentage de codes disponibles par rapport à tous les codes\n",
        "prc = n_cd_d /n_tt_cd  * 100\n",
        "print(' Le pourcentage de codes disponibles par rapport à tous les codes est {} %'.format(round(prc, 2)))\n"
      ]
    },
    {
      "cell_type": "markdown",
      "metadata": {
        "id": "avgrZYPSjB9G"
      },
      "source": [
        "2.    Le calcule de la  fréquence d’un code disponible donné.\n",
        "\n"
      ]
    },
    {
      "cell_type": "code",
      "execution_count": 16,
      "metadata": {
        "colab": {
          "base_uri": "https://localhost:8080/"
        },
        "id": "KkqneQ3gjBQM",
        "outputId": "b5f00731-1667-4266-ed74-a9cda0918918"
      },
      "outputs": [
        {
          "name": "stdout",
          "output_type": "stream",
          "text": [
            "0.0001365\n"
          ]
        }
      ],
      "source": [
        "# Calcul de fréquances de chaque code disponible\n",
        "Freq = Code_Disponible.groupby(['codes']).size().reset_index(name='count') \n",
        "Freq['freq'] = Freq['count']/len(Code_Disponible) \n",
        "# Exemple d'application \n",
        "code  = 110620\n",
        "# Fréquence associée a ce code ci-dessus \n",
        "Freq_code = Freq.loc[Freq['codes'] == code]['freq'].iloc[0]\n",
        "print(round(Freq_code, 7)) "
      ]
    },
    {
      "cell_type": "markdown",
      "metadata": {
        "id": "RVvuwtfsj-n5"
      },
      "source": [
        "3.   Visualisation Graphique des fréquences de 5 codes disponibles.\n",
        "\n"
      ]
    },
    {
      "cell_type": "code",
      "execution_count": 51,
      "metadata": {
        "colab": {
          "base_uri": "https://localhost:8080/",
          "height": 542
        },
        "id": "4vwE5FPrmjt3",
        "outputId": "94696ad6-b1af-4cf6-a745-0670084e8446"
      },
      "outputs": [
        {
          "data": {
            "application/vnd.plotly.v1+json": {
              "config": {
                "plotlyServerURL": "https://plot.ly"
              },
              "data": [
                {
                  "alignmentgroup": "True",
                  "hovertemplate": "x=%{x}<br>y=%{y}<extra></extra>",
                  "legendgroup": "",
                  "marker": {
                    "color": "#636efa",
                    "pattern": {
                      "shape": ""
                    }
                  },
                  "name": "",
                  "offsetgroup": "",
                  "orientation": "v",
                  "showlegend": false,
                  "textposition": "auto",
                  "type": "bar",
                  "x": [
                    730890,
                    630492,
                    960321,
                    842290,
                    821192
                  ],
                  "xaxis": "x",
                  "y": [
                    0.015293442936341044,
                    0.3588497146134309,
                    0.050796078324275615,
                    0.033864052216183736,
                    0.029494497091514867
                  ],
                  "yaxis": "y"
                }
              ],
              "layout": {
                "barmode": "relative",
                "legend": {
                  "tracegroupgap": 0
                },
                "margin": {
                  "t": 60
                },
                "template": {
                  "data": {
                    "bar": [
                      {
                        "error_x": {
                          "color": "#2a3f5f"
                        },
                        "error_y": {
                          "color": "#2a3f5f"
                        },
                        "marker": {
                          "line": {
                            "color": "#E5ECF6",
                            "width": 0.5
                          },
                          "pattern": {
                            "fillmode": "overlay",
                            "size": 10,
                            "solidity": 0.2
                          }
                        },
                        "type": "bar"
                      }
                    ],
                    "barpolar": [
                      {
                        "marker": {
                          "line": {
                            "color": "#E5ECF6",
                            "width": 0.5
                          },
                          "pattern": {
                            "fillmode": "overlay",
                            "size": 10,
                            "solidity": 0.2
                          }
                        },
                        "type": "barpolar"
                      }
                    ],
                    "carpet": [
                      {
                        "aaxis": {
                          "endlinecolor": "#2a3f5f",
                          "gridcolor": "white",
                          "linecolor": "white",
                          "minorgridcolor": "white",
                          "startlinecolor": "#2a3f5f"
                        },
                        "baxis": {
                          "endlinecolor": "#2a3f5f",
                          "gridcolor": "white",
                          "linecolor": "white",
                          "minorgridcolor": "white",
                          "startlinecolor": "#2a3f5f"
                        },
                        "type": "carpet"
                      }
                    ],
                    "choropleth": [
                      {
                        "colorbar": {
                          "outlinewidth": 0,
                          "ticks": ""
                        },
                        "type": "choropleth"
                      }
                    ],
                    "contour": [
                      {
                        "colorbar": {
                          "outlinewidth": 0,
                          "ticks": ""
                        },
                        "colorscale": [
                          [
                            0,
                            "#0d0887"
                          ],
                          [
                            0.1111111111111111,
                            "#46039f"
                          ],
                          [
                            0.2222222222222222,
                            "#7201a8"
                          ],
                          [
                            0.3333333333333333,
                            "#9c179e"
                          ],
                          [
                            0.4444444444444444,
                            "#bd3786"
                          ],
                          [
                            0.5555555555555556,
                            "#d8576b"
                          ],
                          [
                            0.6666666666666666,
                            "#ed7953"
                          ],
                          [
                            0.7777777777777778,
                            "#fb9f3a"
                          ],
                          [
                            0.8888888888888888,
                            "#fdca26"
                          ],
                          [
                            1,
                            "#f0f921"
                          ]
                        ],
                        "type": "contour"
                      }
                    ],
                    "contourcarpet": [
                      {
                        "colorbar": {
                          "outlinewidth": 0,
                          "ticks": ""
                        },
                        "type": "contourcarpet"
                      }
                    ],
                    "heatmap": [
                      {
                        "colorbar": {
                          "outlinewidth": 0,
                          "ticks": ""
                        },
                        "colorscale": [
                          [
                            0,
                            "#0d0887"
                          ],
                          [
                            0.1111111111111111,
                            "#46039f"
                          ],
                          [
                            0.2222222222222222,
                            "#7201a8"
                          ],
                          [
                            0.3333333333333333,
                            "#9c179e"
                          ],
                          [
                            0.4444444444444444,
                            "#bd3786"
                          ],
                          [
                            0.5555555555555556,
                            "#d8576b"
                          ],
                          [
                            0.6666666666666666,
                            "#ed7953"
                          ],
                          [
                            0.7777777777777778,
                            "#fb9f3a"
                          ],
                          [
                            0.8888888888888888,
                            "#fdca26"
                          ],
                          [
                            1,
                            "#f0f921"
                          ]
                        ],
                        "type": "heatmap"
                      }
                    ],
                    "heatmapgl": [
                      {
                        "colorbar": {
                          "outlinewidth": 0,
                          "ticks": ""
                        },
                        "colorscale": [
                          [
                            0,
                            "#0d0887"
                          ],
                          [
                            0.1111111111111111,
                            "#46039f"
                          ],
                          [
                            0.2222222222222222,
                            "#7201a8"
                          ],
                          [
                            0.3333333333333333,
                            "#9c179e"
                          ],
                          [
                            0.4444444444444444,
                            "#bd3786"
                          ],
                          [
                            0.5555555555555556,
                            "#d8576b"
                          ],
                          [
                            0.6666666666666666,
                            "#ed7953"
                          ],
                          [
                            0.7777777777777778,
                            "#fb9f3a"
                          ],
                          [
                            0.8888888888888888,
                            "#fdca26"
                          ],
                          [
                            1,
                            "#f0f921"
                          ]
                        ],
                        "type": "heatmapgl"
                      }
                    ],
                    "histogram": [
                      {
                        "marker": {
                          "pattern": {
                            "fillmode": "overlay",
                            "size": 10,
                            "solidity": 0.2
                          }
                        },
                        "type": "histogram"
                      }
                    ],
                    "histogram2d": [
                      {
                        "colorbar": {
                          "outlinewidth": 0,
                          "ticks": ""
                        },
                        "colorscale": [
                          [
                            0,
                            "#0d0887"
                          ],
                          [
                            0.1111111111111111,
                            "#46039f"
                          ],
                          [
                            0.2222222222222222,
                            "#7201a8"
                          ],
                          [
                            0.3333333333333333,
                            "#9c179e"
                          ],
                          [
                            0.4444444444444444,
                            "#bd3786"
                          ],
                          [
                            0.5555555555555556,
                            "#d8576b"
                          ],
                          [
                            0.6666666666666666,
                            "#ed7953"
                          ],
                          [
                            0.7777777777777778,
                            "#fb9f3a"
                          ],
                          [
                            0.8888888888888888,
                            "#fdca26"
                          ],
                          [
                            1,
                            "#f0f921"
                          ]
                        ],
                        "type": "histogram2d"
                      }
                    ],
                    "histogram2dcontour": [
                      {
                        "colorbar": {
                          "outlinewidth": 0,
                          "ticks": ""
                        },
                        "colorscale": [
                          [
                            0,
                            "#0d0887"
                          ],
                          [
                            0.1111111111111111,
                            "#46039f"
                          ],
                          [
                            0.2222222222222222,
                            "#7201a8"
                          ],
                          [
                            0.3333333333333333,
                            "#9c179e"
                          ],
                          [
                            0.4444444444444444,
                            "#bd3786"
                          ],
                          [
                            0.5555555555555556,
                            "#d8576b"
                          ],
                          [
                            0.6666666666666666,
                            "#ed7953"
                          ],
                          [
                            0.7777777777777778,
                            "#fb9f3a"
                          ],
                          [
                            0.8888888888888888,
                            "#fdca26"
                          ],
                          [
                            1,
                            "#f0f921"
                          ]
                        ],
                        "type": "histogram2dcontour"
                      }
                    ],
                    "mesh3d": [
                      {
                        "colorbar": {
                          "outlinewidth": 0,
                          "ticks": ""
                        },
                        "type": "mesh3d"
                      }
                    ],
                    "parcoords": [
                      {
                        "line": {
                          "colorbar": {
                            "outlinewidth": 0,
                            "ticks": ""
                          }
                        },
                        "type": "parcoords"
                      }
                    ],
                    "pie": [
                      {
                        "automargin": true,
                        "type": "pie"
                      }
                    ],
                    "scatter": [
                      {
                        "marker": {
                          "colorbar": {
                            "outlinewidth": 0,
                            "ticks": ""
                          }
                        },
                        "type": "scatter"
                      }
                    ],
                    "scatter3d": [
                      {
                        "line": {
                          "colorbar": {
                            "outlinewidth": 0,
                            "ticks": ""
                          }
                        },
                        "marker": {
                          "colorbar": {
                            "outlinewidth": 0,
                            "ticks": ""
                          }
                        },
                        "type": "scatter3d"
                      }
                    ],
                    "scattercarpet": [
                      {
                        "marker": {
                          "colorbar": {
                            "outlinewidth": 0,
                            "ticks": ""
                          }
                        },
                        "type": "scattercarpet"
                      }
                    ],
                    "scattergeo": [
                      {
                        "marker": {
                          "colorbar": {
                            "outlinewidth": 0,
                            "ticks": ""
                          }
                        },
                        "type": "scattergeo"
                      }
                    ],
                    "scattergl": [
                      {
                        "marker": {
                          "colorbar": {
                            "outlinewidth": 0,
                            "ticks": ""
                          }
                        },
                        "type": "scattergl"
                      }
                    ],
                    "scattermapbox": [
                      {
                        "marker": {
                          "colorbar": {
                            "outlinewidth": 0,
                            "ticks": ""
                          }
                        },
                        "type": "scattermapbox"
                      }
                    ],
                    "scatterpolar": [
                      {
                        "marker": {
                          "colorbar": {
                            "outlinewidth": 0,
                            "ticks": ""
                          }
                        },
                        "type": "scatterpolar"
                      }
                    ],
                    "scatterpolargl": [
                      {
                        "marker": {
                          "colorbar": {
                            "outlinewidth": 0,
                            "ticks": ""
                          }
                        },
                        "type": "scatterpolargl"
                      }
                    ],
                    "scatterternary": [
                      {
                        "marker": {
                          "colorbar": {
                            "outlinewidth": 0,
                            "ticks": ""
                          }
                        },
                        "type": "scatterternary"
                      }
                    ],
                    "surface": [
                      {
                        "colorbar": {
                          "outlinewidth": 0,
                          "ticks": ""
                        },
                        "colorscale": [
                          [
                            0,
                            "#0d0887"
                          ],
                          [
                            0.1111111111111111,
                            "#46039f"
                          ],
                          [
                            0.2222222222222222,
                            "#7201a8"
                          ],
                          [
                            0.3333333333333333,
                            "#9c179e"
                          ],
                          [
                            0.4444444444444444,
                            "#bd3786"
                          ],
                          [
                            0.5555555555555556,
                            "#d8576b"
                          ],
                          [
                            0.6666666666666666,
                            "#ed7953"
                          ],
                          [
                            0.7777777777777778,
                            "#fb9f3a"
                          ],
                          [
                            0.8888888888888888,
                            "#fdca26"
                          ],
                          [
                            1,
                            "#f0f921"
                          ]
                        ],
                        "type": "surface"
                      }
                    ],
                    "table": [
                      {
                        "cells": {
                          "fill": {
                            "color": "#EBF0F8"
                          },
                          "line": {
                            "color": "white"
                          }
                        },
                        "header": {
                          "fill": {
                            "color": "#C8D4E3"
                          },
                          "line": {
                            "color": "white"
                          }
                        },
                        "type": "table"
                      }
                    ]
                  },
                  "layout": {
                    "annotationdefaults": {
                      "arrowcolor": "#2a3f5f",
                      "arrowhead": 0,
                      "arrowwidth": 1
                    },
                    "autotypenumbers": "strict",
                    "coloraxis": {
                      "colorbar": {
                        "outlinewidth": 0,
                        "ticks": ""
                      }
                    },
                    "colorscale": {
                      "diverging": [
                        [
                          0,
                          "#8e0152"
                        ],
                        [
                          0.1,
                          "#c51b7d"
                        ],
                        [
                          0.2,
                          "#de77ae"
                        ],
                        [
                          0.3,
                          "#f1b6da"
                        ],
                        [
                          0.4,
                          "#fde0ef"
                        ],
                        [
                          0.5,
                          "#f7f7f7"
                        ],
                        [
                          0.6,
                          "#e6f5d0"
                        ],
                        [
                          0.7,
                          "#b8e186"
                        ],
                        [
                          0.8,
                          "#7fbc41"
                        ],
                        [
                          0.9,
                          "#4d9221"
                        ],
                        [
                          1,
                          "#276419"
                        ]
                      ],
                      "sequential": [
                        [
                          0,
                          "#0d0887"
                        ],
                        [
                          0.1111111111111111,
                          "#46039f"
                        ],
                        [
                          0.2222222222222222,
                          "#7201a8"
                        ],
                        [
                          0.3333333333333333,
                          "#9c179e"
                        ],
                        [
                          0.4444444444444444,
                          "#bd3786"
                        ],
                        [
                          0.5555555555555556,
                          "#d8576b"
                        ],
                        [
                          0.6666666666666666,
                          "#ed7953"
                        ],
                        [
                          0.7777777777777778,
                          "#fb9f3a"
                        ],
                        [
                          0.8888888888888888,
                          "#fdca26"
                        ],
                        [
                          1,
                          "#f0f921"
                        ]
                      ],
                      "sequentialminus": [
                        [
                          0,
                          "#0d0887"
                        ],
                        [
                          0.1111111111111111,
                          "#46039f"
                        ],
                        [
                          0.2222222222222222,
                          "#7201a8"
                        ],
                        [
                          0.3333333333333333,
                          "#9c179e"
                        ],
                        [
                          0.4444444444444444,
                          "#bd3786"
                        ],
                        [
                          0.5555555555555556,
                          "#d8576b"
                        ],
                        [
                          0.6666666666666666,
                          "#ed7953"
                        ],
                        [
                          0.7777777777777778,
                          "#fb9f3a"
                        ],
                        [
                          0.8888888888888888,
                          "#fdca26"
                        ],
                        [
                          1,
                          "#f0f921"
                        ]
                      ]
                    },
                    "colorway": [
                      "#636efa",
                      "#EF553B",
                      "#00cc96",
                      "#ab63fa",
                      "#FFA15A",
                      "#19d3f3",
                      "#FF6692",
                      "#B6E880",
                      "#FF97FF",
                      "#FECB52"
                    ],
                    "font": {
                      "color": "#2a3f5f"
                    },
                    "geo": {
                      "bgcolor": "white",
                      "lakecolor": "white",
                      "landcolor": "#E5ECF6",
                      "showlakes": true,
                      "showland": true,
                      "subunitcolor": "white"
                    },
                    "hoverlabel": {
                      "align": "left"
                    },
                    "hovermode": "closest",
                    "mapbox": {
                      "style": "light"
                    },
                    "paper_bgcolor": "white",
                    "plot_bgcolor": "#E5ECF6",
                    "polar": {
                      "angularaxis": {
                        "gridcolor": "white",
                        "linecolor": "white",
                        "ticks": ""
                      },
                      "bgcolor": "#E5ECF6",
                      "radialaxis": {
                        "gridcolor": "white",
                        "linecolor": "white",
                        "ticks": ""
                      }
                    },
                    "scene": {
                      "xaxis": {
                        "backgroundcolor": "#E5ECF6",
                        "gridcolor": "white",
                        "gridwidth": 2,
                        "linecolor": "white",
                        "showbackground": true,
                        "ticks": "",
                        "zerolinecolor": "white"
                      },
                      "yaxis": {
                        "backgroundcolor": "#E5ECF6",
                        "gridcolor": "white",
                        "gridwidth": 2,
                        "linecolor": "white",
                        "showbackground": true,
                        "ticks": "",
                        "zerolinecolor": "white"
                      },
                      "zaxis": {
                        "backgroundcolor": "#E5ECF6",
                        "gridcolor": "white",
                        "gridwidth": 2,
                        "linecolor": "white",
                        "showbackground": true,
                        "ticks": "",
                        "zerolinecolor": "white"
                      }
                    },
                    "shapedefaults": {
                      "line": {
                        "color": "#2a3f5f"
                      }
                    },
                    "ternary": {
                      "aaxis": {
                        "gridcolor": "white",
                        "linecolor": "white",
                        "ticks": ""
                      },
                      "baxis": {
                        "gridcolor": "white",
                        "linecolor": "white",
                        "ticks": ""
                      },
                      "bgcolor": "#E5ECF6",
                      "caxis": {
                        "gridcolor": "white",
                        "linecolor": "white",
                        "ticks": ""
                      }
                    },
                    "title": {
                      "x": 0.05
                    },
                    "xaxis": {
                      "automargin": true,
                      "gridcolor": "white",
                      "linecolor": "white",
                      "ticks": "",
                      "title": {
                        "standoff": 15
                      },
                      "zerolinecolor": "white",
                      "zerolinewidth": 2
                    },
                    "yaxis": {
                      "automargin": true,
                      "gridcolor": "white",
                      "linecolor": "white",
                      "ticks": "",
                      "title": {
                        "standoff": 15
                      },
                      "zerolinecolor": "white",
                      "zerolinewidth": 2
                    }
                  }
                },
                "title": {
                  "text": "Visualisation de fréquences de 5 codes aléatoires"
                },
                "xaxis": {
                  "anchor": "y",
                  "domain": [
                    0,
                    1
                  ],
                  "title": {
                    "text": "Code"
                  },
                  "type": "category"
                },
                "yaxis": {
                  "anchor": "x",
                  "domain": [
                    0,
                    1
                  ],
                  "title": {
                    "text": "Fréquence x(10^2)"
                  }
                }
              }
            }
          },
          "metadata": {},
          "output_type": "display_data"
        }
      ],
      "source": [
        "np.random.seed(0)\n",
        "code_liste = np.random.choice(Freq['codes'], 5)\n",
        "y = Freq.loc[Freq['codes'].isin(code_liste)]['freq']*(1e2)\n",
        "fig = px.bar(x=code_liste, y = y )\n",
        "fig.update_xaxes(type='category')\n",
        "fig.update_layout(\n",
        "    title=\"Visualisation de fréquences de 5 codes aléatoires\",\n",
        "    xaxis_title=\"Code\",\n",
        "    yaxis_title=\"Fréquence x(10^2)\")\n",
        "fig.show()"
      ]
    },
    {
      "cell_type": "markdown",
      "metadata": {
        "id": "R0tdb3_4kgiN"
      },
      "source": [
        "4.   Visualigraphique qui permet de visualiser le maximum, minimum, médiane, et la moyenne des fréquences des codes disponibles\n",
        "\n"
      ]
    },
    {
      "cell_type": "code",
      "execution_count": 244,
      "metadata": {
        "colab": {
          "base_uri": "https://localhost:8080/"
        },
        "id": "41hI4FjDTyRy",
        "outputId": "78c438ef-140f-49c7-8954-e509f674f9d1"
      },
      "outputs": [
        {
          "data": {
            "text/plain": [
              "count    1240.000000\n",
              "mean        0.000806\n",
              "std         0.002308\n",
              "min         0.000087\n",
              "25%         0.000146\n",
              "50%         0.000268\n",
              "75%         0.000661\n",
              "max         0.034902\n",
              "Name: freq, dtype: float64"
            ]
          },
          "execution_count": 244,
          "metadata": {},
          "output_type": "execute_result"
        }
      ],
      "source": [
        "#  Description de la variable freq\n",
        "Freq['freq'].describe().T"
      ]
    },
    {
      "cell_type": "code",
      "execution_count": 89,
      "metadata": {
        "colab": {
          "base_uri": "https://localhost:8080/",
          "height": 542
        },
        "id": "Tp_FGWoplZ8z",
        "outputId": "26fb360f-51f0-4825-e743-1bf35b125b77"
      },
      "outputs": [
        {
          "data": {
            "application/vnd.plotly.v1+json": {
              "config": {
                "plotlyServerURL": "https://plot.ly"
              },
              "data": [
                {
                  "alignmentgroup": "True",
                  "hovertemplate": "x=%{x}<br>y=%{y}<extra></extra>",
                  "legendgroup": "",
                  "marker": {
                    "color": "lightblue",
                    "pattern": {
                      "shape": ""
                    }
                  },
                  "name": "",
                  "offsetgroup": "",
                  "orientation": "v",
                  "showlegend": false,
                  "textposition": "auto",
                  "type": "bar",
                  "x": [
                    "Minimum Freq"
                  ],
                  "xaxis": "x",
                  "y": [
                    0.0000873911024933774
                  ],
                  "yaxis": "y"
                },
                {
                  "alignmentgroup": "True",
                  "hovertemplate": "x=%{x}<br>y=%{y}<extra></extra>",
                  "legendgroup": "",
                  "marker": {
                    "color": "turquoise",
                    "pattern": {
                      "shape": ""
                    }
                  },
                  "name": "",
                  "offsetgroup": "",
                  "orientation": "v",
                  "showlegend": false,
                  "textposition": "auto",
                  "type": "bar",
                  "x": [
                    "Mediane Freq"
                  ],
                  "xaxis": "x",
                  "y": [
                    0.00026763525138596826
                  ],
                  "yaxis": "y"
                },
                {
                  "alignmentgroup": "True",
                  "hovertemplate": "x=%{x}<br>y=%{y}<extra></extra>",
                  "legendgroup": "",
                  "marker": {
                    "color": "darkturquoise",
                    "pattern": {
                      "shape": ""
                    }
                  },
                  "name": "",
                  "offsetgroup": "",
                  "orientation": "v",
                  "showlegend": false,
                  "textposition": "auto",
                  "type": "bar",
                  "x": [
                    "Mean Freq"
                  ],
                  "xaxis": "x",
                  "y": [
                    0.0008064516129032285
                  ],
                  "yaxis": "y"
                },
                {
                  "alignmentgroup": "True",
                  "hovertemplate": "x=%{x}<br>y=%{y}<extra></extra>",
                  "legendgroup": "",
                  "marker": {
                    "color": "darkblue",
                    "pattern": {
                      "shape": ""
                    }
                  },
                  "name": "",
                  "offsetgroup": "",
                  "orientation": "v",
                  "showlegend": false,
                  "textposition": "auto",
                  "type": "bar",
                  "x": [
                    "Maximum Freq"
                  ],
                  "xaxis": "x",
                  "y": [
                    0.0349018215582926
                  ],
                  "yaxis": "y"
                }
              ],
              "layout": {
                "barmode": "relative",
                "legend": {
                  "tracegroupgap": 0
                },
                "margin": {
                  "t": 60
                },
                "template": {
                  "data": {
                    "bar": [
                      {
                        "error_x": {
                          "color": "#2a3f5f"
                        },
                        "error_y": {
                          "color": "#2a3f5f"
                        },
                        "marker": {
                          "line": {
                            "color": "#E5ECF6",
                            "width": 0.5
                          },
                          "pattern": {
                            "fillmode": "overlay",
                            "size": 10,
                            "solidity": 0.2
                          }
                        },
                        "type": "bar"
                      }
                    ],
                    "barpolar": [
                      {
                        "marker": {
                          "line": {
                            "color": "#E5ECF6",
                            "width": 0.5
                          },
                          "pattern": {
                            "fillmode": "overlay",
                            "size": 10,
                            "solidity": 0.2
                          }
                        },
                        "type": "barpolar"
                      }
                    ],
                    "carpet": [
                      {
                        "aaxis": {
                          "endlinecolor": "#2a3f5f",
                          "gridcolor": "white",
                          "linecolor": "white",
                          "minorgridcolor": "white",
                          "startlinecolor": "#2a3f5f"
                        },
                        "baxis": {
                          "endlinecolor": "#2a3f5f",
                          "gridcolor": "white",
                          "linecolor": "white",
                          "minorgridcolor": "white",
                          "startlinecolor": "#2a3f5f"
                        },
                        "type": "carpet"
                      }
                    ],
                    "choropleth": [
                      {
                        "colorbar": {
                          "outlinewidth": 0,
                          "ticks": ""
                        },
                        "type": "choropleth"
                      }
                    ],
                    "contour": [
                      {
                        "colorbar": {
                          "outlinewidth": 0,
                          "ticks": ""
                        },
                        "colorscale": [
                          [
                            0,
                            "#0d0887"
                          ],
                          [
                            0.1111111111111111,
                            "#46039f"
                          ],
                          [
                            0.2222222222222222,
                            "#7201a8"
                          ],
                          [
                            0.3333333333333333,
                            "#9c179e"
                          ],
                          [
                            0.4444444444444444,
                            "#bd3786"
                          ],
                          [
                            0.5555555555555556,
                            "#d8576b"
                          ],
                          [
                            0.6666666666666666,
                            "#ed7953"
                          ],
                          [
                            0.7777777777777778,
                            "#fb9f3a"
                          ],
                          [
                            0.8888888888888888,
                            "#fdca26"
                          ],
                          [
                            1,
                            "#f0f921"
                          ]
                        ],
                        "type": "contour"
                      }
                    ],
                    "contourcarpet": [
                      {
                        "colorbar": {
                          "outlinewidth": 0,
                          "ticks": ""
                        },
                        "type": "contourcarpet"
                      }
                    ],
                    "heatmap": [
                      {
                        "colorbar": {
                          "outlinewidth": 0,
                          "ticks": ""
                        },
                        "colorscale": [
                          [
                            0,
                            "#0d0887"
                          ],
                          [
                            0.1111111111111111,
                            "#46039f"
                          ],
                          [
                            0.2222222222222222,
                            "#7201a8"
                          ],
                          [
                            0.3333333333333333,
                            "#9c179e"
                          ],
                          [
                            0.4444444444444444,
                            "#bd3786"
                          ],
                          [
                            0.5555555555555556,
                            "#d8576b"
                          ],
                          [
                            0.6666666666666666,
                            "#ed7953"
                          ],
                          [
                            0.7777777777777778,
                            "#fb9f3a"
                          ],
                          [
                            0.8888888888888888,
                            "#fdca26"
                          ],
                          [
                            1,
                            "#f0f921"
                          ]
                        ],
                        "type": "heatmap"
                      }
                    ],
                    "heatmapgl": [
                      {
                        "colorbar": {
                          "outlinewidth": 0,
                          "ticks": ""
                        },
                        "colorscale": [
                          [
                            0,
                            "#0d0887"
                          ],
                          [
                            0.1111111111111111,
                            "#46039f"
                          ],
                          [
                            0.2222222222222222,
                            "#7201a8"
                          ],
                          [
                            0.3333333333333333,
                            "#9c179e"
                          ],
                          [
                            0.4444444444444444,
                            "#bd3786"
                          ],
                          [
                            0.5555555555555556,
                            "#d8576b"
                          ],
                          [
                            0.6666666666666666,
                            "#ed7953"
                          ],
                          [
                            0.7777777777777778,
                            "#fb9f3a"
                          ],
                          [
                            0.8888888888888888,
                            "#fdca26"
                          ],
                          [
                            1,
                            "#f0f921"
                          ]
                        ],
                        "type": "heatmapgl"
                      }
                    ],
                    "histogram": [
                      {
                        "marker": {
                          "pattern": {
                            "fillmode": "overlay",
                            "size": 10,
                            "solidity": 0.2
                          }
                        },
                        "type": "histogram"
                      }
                    ],
                    "histogram2d": [
                      {
                        "colorbar": {
                          "outlinewidth": 0,
                          "ticks": ""
                        },
                        "colorscale": [
                          [
                            0,
                            "#0d0887"
                          ],
                          [
                            0.1111111111111111,
                            "#46039f"
                          ],
                          [
                            0.2222222222222222,
                            "#7201a8"
                          ],
                          [
                            0.3333333333333333,
                            "#9c179e"
                          ],
                          [
                            0.4444444444444444,
                            "#bd3786"
                          ],
                          [
                            0.5555555555555556,
                            "#d8576b"
                          ],
                          [
                            0.6666666666666666,
                            "#ed7953"
                          ],
                          [
                            0.7777777777777778,
                            "#fb9f3a"
                          ],
                          [
                            0.8888888888888888,
                            "#fdca26"
                          ],
                          [
                            1,
                            "#f0f921"
                          ]
                        ],
                        "type": "histogram2d"
                      }
                    ],
                    "histogram2dcontour": [
                      {
                        "colorbar": {
                          "outlinewidth": 0,
                          "ticks": ""
                        },
                        "colorscale": [
                          [
                            0,
                            "#0d0887"
                          ],
                          [
                            0.1111111111111111,
                            "#46039f"
                          ],
                          [
                            0.2222222222222222,
                            "#7201a8"
                          ],
                          [
                            0.3333333333333333,
                            "#9c179e"
                          ],
                          [
                            0.4444444444444444,
                            "#bd3786"
                          ],
                          [
                            0.5555555555555556,
                            "#d8576b"
                          ],
                          [
                            0.6666666666666666,
                            "#ed7953"
                          ],
                          [
                            0.7777777777777778,
                            "#fb9f3a"
                          ],
                          [
                            0.8888888888888888,
                            "#fdca26"
                          ],
                          [
                            1,
                            "#f0f921"
                          ]
                        ],
                        "type": "histogram2dcontour"
                      }
                    ],
                    "mesh3d": [
                      {
                        "colorbar": {
                          "outlinewidth": 0,
                          "ticks": ""
                        },
                        "type": "mesh3d"
                      }
                    ],
                    "parcoords": [
                      {
                        "line": {
                          "colorbar": {
                            "outlinewidth": 0,
                            "ticks": ""
                          }
                        },
                        "type": "parcoords"
                      }
                    ],
                    "pie": [
                      {
                        "automargin": true,
                        "type": "pie"
                      }
                    ],
                    "scatter": [
                      {
                        "marker": {
                          "colorbar": {
                            "outlinewidth": 0,
                            "ticks": ""
                          }
                        },
                        "type": "scatter"
                      }
                    ],
                    "scatter3d": [
                      {
                        "line": {
                          "colorbar": {
                            "outlinewidth": 0,
                            "ticks": ""
                          }
                        },
                        "marker": {
                          "colorbar": {
                            "outlinewidth": 0,
                            "ticks": ""
                          }
                        },
                        "type": "scatter3d"
                      }
                    ],
                    "scattercarpet": [
                      {
                        "marker": {
                          "colorbar": {
                            "outlinewidth": 0,
                            "ticks": ""
                          }
                        },
                        "type": "scattercarpet"
                      }
                    ],
                    "scattergeo": [
                      {
                        "marker": {
                          "colorbar": {
                            "outlinewidth": 0,
                            "ticks": ""
                          }
                        },
                        "type": "scattergeo"
                      }
                    ],
                    "scattergl": [
                      {
                        "marker": {
                          "colorbar": {
                            "outlinewidth": 0,
                            "ticks": ""
                          }
                        },
                        "type": "scattergl"
                      }
                    ],
                    "scattermapbox": [
                      {
                        "marker": {
                          "colorbar": {
                            "outlinewidth": 0,
                            "ticks": ""
                          }
                        },
                        "type": "scattermapbox"
                      }
                    ],
                    "scatterpolar": [
                      {
                        "marker": {
                          "colorbar": {
                            "outlinewidth": 0,
                            "ticks": ""
                          }
                        },
                        "type": "scatterpolar"
                      }
                    ],
                    "scatterpolargl": [
                      {
                        "marker": {
                          "colorbar": {
                            "outlinewidth": 0,
                            "ticks": ""
                          }
                        },
                        "type": "scatterpolargl"
                      }
                    ],
                    "scatterternary": [
                      {
                        "marker": {
                          "colorbar": {
                            "outlinewidth": 0,
                            "ticks": ""
                          }
                        },
                        "type": "scatterternary"
                      }
                    ],
                    "surface": [
                      {
                        "colorbar": {
                          "outlinewidth": 0,
                          "ticks": ""
                        },
                        "colorscale": [
                          [
                            0,
                            "#0d0887"
                          ],
                          [
                            0.1111111111111111,
                            "#46039f"
                          ],
                          [
                            0.2222222222222222,
                            "#7201a8"
                          ],
                          [
                            0.3333333333333333,
                            "#9c179e"
                          ],
                          [
                            0.4444444444444444,
                            "#bd3786"
                          ],
                          [
                            0.5555555555555556,
                            "#d8576b"
                          ],
                          [
                            0.6666666666666666,
                            "#ed7953"
                          ],
                          [
                            0.7777777777777778,
                            "#fb9f3a"
                          ],
                          [
                            0.8888888888888888,
                            "#fdca26"
                          ],
                          [
                            1,
                            "#f0f921"
                          ]
                        ],
                        "type": "surface"
                      }
                    ],
                    "table": [
                      {
                        "cells": {
                          "fill": {
                            "color": "#EBF0F8"
                          },
                          "line": {
                            "color": "white"
                          }
                        },
                        "header": {
                          "fill": {
                            "color": "#C8D4E3"
                          },
                          "line": {
                            "color": "white"
                          }
                        },
                        "type": "table"
                      }
                    ]
                  },
                  "layout": {
                    "annotationdefaults": {
                      "arrowcolor": "#2a3f5f",
                      "arrowhead": 0,
                      "arrowwidth": 1
                    },
                    "autotypenumbers": "strict",
                    "coloraxis": {
                      "colorbar": {
                        "outlinewidth": 0,
                        "ticks": ""
                      }
                    },
                    "colorscale": {
                      "diverging": [
                        [
                          0,
                          "#8e0152"
                        ],
                        [
                          0.1,
                          "#c51b7d"
                        ],
                        [
                          0.2,
                          "#de77ae"
                        ],
                        [
                          0.3,
                          "#f1b6da"
                        ],
                        [
                          0.4,
                          "#fde0ef"
                        ],
                        [
                          0.5,
                          "#f7f7f7"
                        ],
                        [
                          0.6,
                          "#e6f5d0"
                        ],
                        [
                          0.7,
                          "#b8e186"
                        ],
                        [
                          0.8,
                          "#7fbc41"
                        ],
                        [
                          0.9,
                          "#4d9221"
                        ],
                        [
                          1,
                          "#276419"
                        ]
                      ],
                      "sequential": [
                        [
                          0,
                          "#0d0887"
                        ],
                        [
                          0.1111111111111111,
                          "#46039f"
                        ],
                        [
                          0.2222222222222222,
                          "#7201a8"
                        ],
                        [
                          0.3333333333333333,
                          "#9c179e"
                        ],
                        [
                          0.4444444444444444,
                          "#bd3786"
                        ],
                        [
                          0.5555555555555556,
                          "#d8576b"
                        ],
                        [
                          0.6666666666666666,
                          "#ed7953"
                        ],
                        [
                          0.7777777777777778,
                          "#fb9f3a"
                        ],
                        [
                          0.8888888888888888,
                          "#fdca26"
                        ],
                        [
                          1,
                          "#f0f921"
                        ]
                      ],
                      "sequentialminus": [
                        [
                          0,
                          "#0d0887"
                        ],
                        [
                          0.1111111111111111,
                          "#46039f"
                        ],
                        [
                          0.2222222222222222,
                          "#7201a8"
                        ],
                        [
                          0.3333333333333333,
                          "#9c179e"
                        ],
                        [
                          0.4444444444444444,
                          "#bd3786"
                        ],
                        [
                          0.5555555555555556,
                          "#d8576b"
                        ],
                        [
                          0.6666666666666666,
                          "#ed7953"
                        ],
                        [
                          0.7777777777777778,
                          "#fb9f3a"
                        ],
                        [
                          0.8888888888888888,
                          "#fdca26"
                        ],
                        [
                          1,
                          "#f0f921"
                        ]
                      ]
                    },
                    "colorway": [
                      "#636efa",
                      "#EF553B",
                      "#00cc96",
                      "#ab63fa",
                      "#FFA15A",
                      "#19d3f3",
                      "#FF6692",
                      "#B6E880",
                      "#FF97FF",
                      "#FECB52"
                    ],
                    "font": {
                      "color": "#2a3f5f"
                    },
                    "geo": {
                      "bgcolor": "white",
                      "lakecolor": "white",
                      "landcolor": "#E5ECF6",
                      "showlakes": true,
                      "showland": true,
                      "subunitcolor": "white"
                    },
                    "hoverlabel": {
                      "align": "left"
                    },
                    "hovermode": "closest",
                    "mapbox": {
                      "style": "light"
                    },
                    "paper_bgcolor": "white",
                    "plot_bgcolor": "#E5ECF6",
                    "polar": {
                      "angularaxis": {
                        "gridcolor": "white",
                        "linecolor": "white",
                        "ticks": ""
                      },
                      "bgcolor": "#E5ECF6",
                      "radialaxis": {
                        "gridcolor": "white",
                        "linecolor": "white",
                        "ticks": ""
                      }
                    },
                    "scene": {
                      "xaxis": {
                        "backgroundcolor": "#E5ECF6",
                        "gridcolor": "white",
                        "gridwidth": 2,
                        "linecolor": "white",
                        "showbackground": true,
                        "ticks": "",
                        "zerolinecolor": "white"
                      },
                      "yaxis": {
                        "backgroundcolor": "#E5ECF6",
                        "gridcolor": "white",
                        "gridwidth": 2,
                        "linecolor": "white",
                        "showbackground": true,
                        "ticks": "",
                        "zerolinecolor": "white"
                      },
                      "zaxis": {
                        "backgroundcolor": "#E5ECF6",
                        "gridcolor": "white",
                        "gridwidth": 2,
                        "linecolor": "white",
                        "showbackground": true,
                        "ticks": "",
                        "zerolinecolor": "white"
                      }
                    },
                    "shapedefaults": {
                      "line": {
                        "color": "#2a3f5f"
                      }
                    },
                    "ternary": {
                      "aaxis": {
                        "gridcolor": "white",
                        "linecolor": "white",
                        "ticks": ""
                      },
                      "baxis": {
                        "gridcolor": "white",
                        "linecolor": "white",
                        "ticks": ""
                      },
                      "bgcolor": "#E5ECF6",
                      "caxis": {
                        "gridcolor": "white",
                        "linecolor": "white",
                        "ticks": ""
                      }
                    },
                    "title": {
                      "x": 0.05
                    },
                    "xaxis": {
                      "automargin": true,
                      "gridcolor": "white",
                      "linecolor": "white",
                      "ticks": "",
                      "title": {
                        "standoff": 15
                      },
                      "zerolinecolor": "white",
                      "zerolinewidth": 2
                    },
                    "yaxis": {
                      "automargin": true,
                      "gridcolor": "white",
                      "linecolor": "white",
                      "ticks": "",
                      "title": {
                        "standoff": 15
                      },
                      "zerolinecolor": "white",
                      "zerolinewidth": 2
                    }
                  }
                },
                "xaxis": {
                  "anchor": "y",
                  "domain": [
                    0,
                    1
                  ],
                  "title": {
                    "text": "Statistiques"
                  }
                },
                "yaxis": {
                  "anchor": "x",
                  "domain": [
                    0,
                    1
                  ],
                  "title": {
                    "text": "Fréquence"
                  }
                }
              }
            }
          },
          "metadata": {},
          "output_type": "display_data"
        }
      ],
      "source": [
        "def analyse(df,col):\n",
        "    dictionary = {\"Minimum Freq\" : df[col].min(),\n",
        "                  \"Mediane Freq\" : df[col].median(),\n",
        "                  \"Mean Freq\": df[col].mean(),\n",
        "                  \"Maximum Freq\": df[col].max()}\n",
        "    return dictionary\n",
        "col = 'freq'\n",
        "dic = analyse(Freq,col)\n",
        "fig = px.bar(x= list(dic.keys()), y = list(dic.values()),\n",
        "             color=['lightblue','turquoise','darkturquoise','darkblue'],\n",
        "             color_discrete_map=\"identity\")\n",
        "fig.update_layout(\n",
        "    xaxis_title=\"Statistiques\",\n",
        "    yaxis_title=\"Fréquence\")\n",
        "fig.show()"
      ]
    },
    {
      "cell_type": "markdown",
      "metadata": {},
      "source": [
        "On remarque que la valeur maximale est largment grande par rapport à la valeur moyenne ce qui rend les données dispérsées."
      ]
    },
    {
      "cell_type": "code",
      "execution_count": 90,
      "metadata": {
        "colab": {
          "base_uri": "https://localhost:8080/",
          "height": 378
        },
        "id": "SMN55o_glr9_",
        "outputId": "18cc2082-ac1a-4501-fcb7-a0c031103746"
      },
      "outputs": [
        {
          "data": {
            "application/vnd.plotly.v1+json": {
              "config": {
                "plotlyServerURL": "https://plot.ly"
              },
              "data": [
                {
                  "alignmentgroup": "True",
                  "hovertemplate": "freq=%{y}<extra></extra>",
                  "legendgroup": "",
                  "marker": {
                    "color": "#636efa"
                  },
                  "name": "",
                  "notched": false,
                  "offsetgroup": "",
                  "orientation": "v",
                  "showlegend": false,
                  "type": "box",
                  "x0": " ",
                  "xaxis": "x",
                  "y": [
                    0.00012016276592839392,
                    0.00043149356856105086,
                    0.00012016276592839392,
                    0.00012016276592839392,
                    0.00013654859764590218,
                    0.00025671136357429607,
                    0.00012562470983423,
                    0.00024032553185678783,
                    0.0005188846710544282,
                    0.00026763525138596826,
                    0.0014037195837998744,
                    0.00015293442936341044,
                    0.0005352705027719365,
                    0.0019499139743834831,
                    0.00009285304639921348,
                    0.0002949449709151487,
                    0.00012562470983423,
                    0.00014201054155173827,
                    0.00012016276592839392,
                    0.00043695551246688695,
                    0.0007592102029112161,
                    0.00022940164404511567,
                    0.00009831499030504956,
                    0.00031679274653849306,
                    0.0001693202610809187,
                    0.00022393970013927957,
                    0.0001638583171750826,
                    0.0003441024660676735,
                    0.00009831499030504956,
                    0.00009285304639921348,
                    0.00015839637326924653,
                    0.00022940164404511567,
                    0.0004260316246552148,
                    0.00027855913919764045,
                    0.00048065106371357566,
                    0.0001638583171750826,
                    0.00014201054155173827,
                    0.00009285304639921348,
                    0.00009285304639921348,
                    0.0006554332687003304,
                    0.00012562470983423,
                    0.0029002922139989623,
                    0.00024032553185678783,
                    0.0009776879591446596,
                    0.0010760029494497091,
                    0.0038561323975202775,
                    0.0003386405221618374,
                    0.0010814648933555452,
                    0.0028292869432230932,
                    0.00021847775623344348,
                    0.0004151077368435426,
                    0.0016003495644099734,
                    0.0000873911024933774,
                    0.0010486932299205286,
                    0.00040418384903187043,
                    0.00009831499030504956,
                    0.0012726329300598084,
                    0.0013491001447415135,
                    0.0005680421662069531,
                    0.00014747248545757434,
                    0.00417292514405877,
                    0.00011470082202255783,
                    0.00075374825900538,
                    0.00039325996122019824,
                    0.00018570609279842696,
                    0.0001747822049867548,
                    0.0006663571565120026,
                    0.00019662998061009912,
                    0.00013654859764590218,
                    0.00014201054155173827,
                    0.00163312122784499,
                    0.00014201054155173827,
                    0.000944916295709643,
                    0.00022393970013927957,
                    0.0018024414889259088,
                    0.0001747822049867548,
                    0.00012016276592839392,
                    0.00009831499030504956,
                    0.00014201054155173827,
                    0.00009285304639921348,
                    0.0020810006281235492,
                    0.0024087172624737145,
                    0.00009285304639921348,
                    0.00011470082202255783,
                    0.0006390474369828222,
                    0.0004205696807493787,
                    0.00014747248545757434,
                    0.00043149356856105086,
                    0.0005298085588661004,
                    0.0006008138296419696,
                    0.00015293442936341044,
                    0.0003277166343501652,
                    0.00024578747576262393,
                    0.002070076740311877,
                    0.0007428243711937078,
                    0.00012562470983423,
                    0.00015293442936341044,
                    0.0007045907638528553,
                    0.027337029248709614,
                    0.00009285304639921348,
                    0.001944452030477647,
                    0.004009066826883688,
                    0.00023486358795095174,
                    0.00012562470983423,
                    0.0003604882977851817,
                    0.0008411393614987574,
                    0.00014747248545757434,
                    0.00010377693421088566,
                    0.00024578747576262393,
                    0.0014255673594232188,
                    0.00026763525138596826,
                    0.00009831499030504956,
                    0.00010923887811672174,
                    0.004817434524947429,
                    0.0011688559958489225,
                    0.00009831499030504956,
                    0.00012016276592839392,
                    0.00009831499030504956,
                    0.00027309719529180435,
                    0.00026763525138596826,
                    0.00012016276592839392,
                    0.0002130158123276074,
                    0.00014747248545757434,
                    0.0002075538684217713,
                    0.0003277166343501652,
                    0.0008902968566512822,
                    0.00018570609279842696,
                    0.0000873911024933774,
                    0.00009831499030504956,
                    0.00012016276592839392,
                    0.00012016276592839392,
                    0.00014201054155173827,
                    0.00009285304639921348,
                    0.00009831499030504956,
                    0.0003386405221618374,
                    0.00010377693421088566,
                    0.00012016276592839392,
                    0.00018570609279842696,
                    0.00015293442936341044,
                    0.00015839637326924653,
                    0.00024578747576262393,
                    0.00028948302700931264,
                    0.00019116803670426305,
                    0.00009831499030504956,
                    0.00027855913919764045,
                    0.0002075538684217713,
                    0.00009831499030504956,
                    0.0005461943905836087,
                    0.0004915749515252479,
                    0.00027855913919764045,
                    0.00009285304639921348,
                    0.00015839637326924653,
                    0.00014201054155173827,
                    0.00015839637326924653,
                    0.0003604882977851817,
                    0.00013108665374006608,
                    0.0007100527077586914,
                    0.0005680421662069531,
                    0.0011797798836605947,
                    0.00011470082202255783,
                    0.0002130158123276074,
                    0.00011470082202255783,
                    0.00037687412950269,
                    0.0023704836551328616,
                    0.001070541005543873,
                    0.0045880328809023135,
                    0.0000873911024933774,
                    0.00012016276592839392,
                    0.00014747248545757434,
                    0.00045880328809023134,
                    0.00014201054155173827,
                    0.00024578747576262393,
                    0.0002949449709151487,
                    0.00009285304639921348,
                    0.0007428243711937078,
                    0.0002075538684217713,
                    0.00018570609279842696,
                    0.00027855913919764045,
                    0.00010377693421088566,
                    0.0001693202610809187,
                    0.00032225469044432916,
                    0.00015839637326924653,
                    0.00028948302700931264,
                    0.0001638583171750826,
                    0.0003823360734085261,
                    0.0003386405221618374,
                    0.0007810579785345605,
                    0.00028402108310347654,
                    0.0012780948739656444,
                    0.0005844279979244613,
                    0.00013108665374006608,
                    0.00014747248545757434,
                    0.00022940164404511567,
                    0.0002075538684217713,
                    0.0002075538684217713,
                    0.004074610153753721,
                    0.00027309719529180435,
                    0.0004260316246552148,
                    0.0001638583171750826,
                    0.00026217330748013216,
                    0.00012016276592839392,
                    0.00022940164404511567,
                    0.0003386405221618374,
                    0.001938990086571811,
                    0.0006445093808886583,
                    0.0003277166343501652,
                    0.00009285304639921348,
                    0.0007209765955703634,
                    0.00028948302700931264,
                    0.001502034574104924,
                    0.00027309719529180435,
                    0.0003823360734085261,
                    0.00025124941966846,
                    0.0008629871371221017,
                    0.00010923887811672174,
                    0.00013654859764590218,
                    0.00031133080263265697,
                    0.00010923887811672174,
                    0.0006008138296419696,
                    0.000562580222301117,
                    0.00015293442936341044,
                    0.00023486358795095174,
                    0.00009285304639921348,
                    0.00027855913919764045,
                    0.00014201054155173827,
                    0.0005407324466777726,
                    0.00014201054155173827,
                    0.0005188846710544282,
                    0.00010377693421088566,
                    0.00009285304639921348,
                    0.00031679274653849306,
                    0.00012016276592839392,
                    0.00010377693421088566,
                    0.0008629871371221017,
                    0.0003277166343501652,
                    0.00014747248545757434,
                    0.00021847775623344348,
                    0.00009831499030504956,
                    0.006521561023568288,
                    0.00010923887811672174,
                    0.00009831499030504956,
                    0.00010377693421088566,
                    0.00012016276592839392,
                    0.00022940164404511567,
                    0.00010923887811672174,
                    0.00011470082202255783,
                    0.00009831499030504956,
                    0.0003441024660676735,
                    0.0003550263538793457,
                    0.00018024414889259086,
                    0.00022940164404511567,
                    0.00013108665374006608,
                    0.00014747248545757434,
                    0.00024578747576262393,
                    0.00023486358795095174,
                    0.00012016276592839392,
                    0.0003004069148209848,
                    0.0007974438102520687,
                    0.00009831499030504956,
                    0.00026217330748013216,
                    0.00013654859764590218,
                    0.00019116803670426305,
                    0.0005079607832427561,
                    0.0004915749515252479,
                    0.0008848349127454461,
                    0.0010213835103913484,
                    0.00019662998061009912,
                    0.0003331785782560013,
                    0.0010159215664855123,
                    0.002501570308872928,
                    0.0005571182783952809,
                    0.00032225469044432916,
                    0.00013108665374006608,
                    0.00015293442936341044,
                    0.00009285304639921348,
                    0.0005516563344894448,
                    0.0005789660540186253,
                    0.00025124941966846,
                    0.00040418384903187043,
                    0.0004260316246552148,
                    0.0012234754349072835,
                    0.00031679274653849306,
                    0.00013654859764590218,
                    0.00018570609279842696,
                    0.0006062757735478056,
                    0.0008902968566512822,
                    0.00043695551246688695,
                    0.0005352705027719365,
                    0.0008029057541579048,
                    0.0006390474369828222,
                    0.004293087909987165,
                    0.0031187699702324057,
                    0.00087937296883961,
                    0.00048065106371357566,
                    0.006537946855285796,
                    0.0012343993227189557,
                    0.005221618373979299,
                    0.0349018215582926,
                    0.00015293442936341044,
                    0.00013654859764590218,
                    0.0006772810443236748,
                    0.00010923887811672174,
                    0.0003386405221618374,
                    0.00009831499030504956,
                    0.0001693202610809187,
                    0.00010923887811672174,
                    0.0002075538684217713,
                    0.0000873911024933774,
                    0.00011470082202255783,
                    0.0001638583171750826,
                    0.0007482863150995439,
                    0.0008192915858754131,
                    0.00009285304639921348,
                    0.0006117377174536417,
                    0.0001638583171750826,
                    0.0022448589452986317,
                    0.0032935521752191603,
                    0.00014201054155173827,
                    0.00024578747576262393,
                    0.0017095884425266954,
                    0.0017095884425266954,
                    0.00014747248545757434,
                    0.00012016276592839392,
                    0.0015293442936341044,
                    0.00013108665374006608,
                    0.0005571182783952809,
                    0.002654504738236338,
                    0.00019662998061009912,
                    0.00043695551246688695,
                    0.018685310101865252,
                    0.001452877078952399,
                    0.00025124941966846,
                    0.00014201054155173827,
                    0.0009722260152388235,
                    0.00044787940027855914,
                    0.0016440451156566622,
                    0.00009285304639921348,
                    0.00019116803670426305,
                    0.00015839637326924653,
                    0.00009831499030504956,
                    0.00009831499030504956,
                    0.00009831499030504956,
                    0.0002075538684217713,
                    0.00022940164404511567,
                    0.00023486358795095174,
                    0.00026763525138596826,
                    0.00014747248545757434,
                    0.00039872190512603434,
                    0.0008466013054045935,
                    0.002998607204304012,
                    0.0016003495644099734,
                    0.00013108665374006608,
                    0.00024578747576262393,
                    0.002501570308872928,
                    0.00011470082202255783,
                    0.00009831499030504956,
                    0.00015839637326924653,
                    0.00022940164404511567,
                    0.001376409864270694,
                    0.00048611300761941176,
                    0.00009831499030504956,
                    0.00014747248545757434,
                    0.00023486358795095174,
                    0.0000873911024933774,
                    0.0002949449709151487,
                    0.00022393970013927957,
                    0.0001747822049867548,
                    0.0008247535297812492,
                    0.0003495644099735096,
                    0.0003550263538793457,
                    0.0006608952126061665,
                    0.0009121446322746266,
                    0.00024578747576262393,
                    0.0009613021274271513,
                    0.00011470082202255783,
                    0.00013108665374006608,
                    0.0000873911024933774,
                    0.0003550263538793457,
                    0.00012562470983423,
                    0.0006008138296419696,
                    0.00031133080263265697,
                    0.0014146434716115466,
                    0.0002949449709151487,
                    0.0022230111696752873,
                    0.00023486358795095174,
                    0.0007810579785345605,
                    0.0014146434716115466,
                    0.0017805937133025644,
                    0.00009285304639921348,
                    0.00009831499030504956,
                    0.0000873911024933774,
                    0.0000873911024933774,
                    0.00012016276592839392,
                    0.00010923887811672174,
                    0.0000873911024933774,
                    0.00009831499030504956,
                    0.00009831499030504956,
                    0.00018570609279842696,
                    0.000994073790862168,
                    0.00009285304639921348,
                    0.00031679274653849306,
                    0.0001747822049867548,
                    0.0001638583171750826,
                    0.00039872190512603434,
                    0.00027309719529180435,
                    0.00023486358795095174,
                    0.00018570609279842696,
                    0.00010923887811672174,
                    0.00018570609279842696,
                    0.00018024414889259086,
                    0.00020209192451593522,
                    0.0000873911024933774,
                    0.00031679274653849306,
                    0.0003550263538793457,
                    0.00027309719529180435,
                    0.0003877980173143622,
                    0.00027309719529180435,
                    0.00024032553185678783,
                    0.0006445093808886583,
                    0.00009831499030504956,
                    0.0002075538684217713,
                    0.00022393970013927957,
                    0.00020209192451593522,
                    0.00010377693421088566,
                    0.0006936668760411831,
                    0.00019662998061009912,
                    0.00014747248545757434,
                    0.00062812354917115,
                    0.00043695551246688695,
                    0.00012016276592839392,
                    0.00009831499030504956,
                    0.00010377693421088566,
                    0.0006554332687003304,
                    0.00009831499030504956,
                    0.00024032553185678783,
                    0.00025124941966846,
                    0.00009285304639921348,
                    0.00039872190512603434,
                    0.0002075538684217713,
                    0.00012562470983423,
                    0.0009776879591446596,
                    0.0007755960346287244,
                    0.0001638583171750826,
                    0.0004205696807493787,
                    0.0001638583171750826,
                    0.0008247535297812492,
                    0.0001693202610809187,
                    0.00048065106371357566,
                    0.00013108665374006608,
                    0.0000873911024933774,
                    0.00048065106371357566,
                    0.00014747248545757434,
                    0.00019662998061009912,
                    0.0003550263538793457,
                    0.00025124941966846,
                    0.0000873911024933774,
                    0.00014747248545757434,
                    0.00013108665374006608,
                    0.00013108665374006608,
                    0.00024032553185678783,
                    0.0003386405221618374,
                    0.0009776879591446596,
                    0.00012016276592839392,
                    0.00014201054155173827,
                    0.00011470082202255783,
                    0.0005571182783952809,
                    0.00040418384903187043,
                    0.00044787940027855914,
                    0.00018570609279842696,
                    0.00022393970013927957,
                    0.0011524701641314145,
                    0.0010596171177322008,
                    0.0002075538684217713,
                    0.0004260316246552148,
                    0.00018570609279842696,
                    0.0003331785782560013,
                    0.00044787940027855914,
                    0.00015839637326924653,
                    0.0001747822049867548,
                    0.00009285304639921348,
                    0.00044787940027855914,
                    0.0002075538684217713,
                    0.00011470082202255783,
                    0.00014747248545757434,
                    0.0021738536745227626,
                    0.0019936095256301717,
                    0.00024578747576262393,
                    0.001190703771472267,
                    0.0028839063822814538,
                    0.0010814648933555452,
                    0.0003823360734085261,
                    0.0004915749515252479,
                    0.0014091815277057105,
                    0.0006445093808886583,
                    0.0013654859764590218,
                    0.00013108665374006608,
                    0.00010377693421088566,
                    0.00009831499030504956,
                    0.0003877980173143622,
                    0.0006772810443236748,
                    0.002834748887128929,
                    0.0002949449709151487,
                    0.001321790425212333,
                    0.0006062757735478056,
                    0.0012343993227189557,
                    0.00018024414889259086,
                    0.0005571182783952809,
                    0.00022393970013927957,
                    0.00018570609279842696,
                    0.0014747248545757435,
                    0.00018024414889259086,
                    0.00015293442936341044,
                    0.001201627659283939,
                    0.0009230685200862988,
                    0.00023486358795095174,
                    0.00027309719529180435,
                    0.0001693202610809187,
                    0.00040964579293770653,
                    0.00009831499030504956,
                    0.00009831499030504956,
                    0.00009831499030504956,
                    0.0005352705027719365,
                    0.0005571182783952809,
                    0.00028948302700931264,
                    0.00012016276592839392,
                    0.0000873911024933774,
                    0.0003441024660676735,
                    0.0006936668760411831,
                    0.00011470082202255783,
                    0.00031679274653849306,
                    0.00018570609279842696,
                    0.0017041264986208593,
                    0.0011360843324139062,
                    0.001431029303329055,
                    0.00026763525138596826,
                    0.0003331785782560013,
                    0.0006663571565120026,
                    0.0010978507250730535,
                    0.0007319004833820356,
                    0.00021847775623344348,
                    0.0008684490810279378,
                    0.00030586885872682087,
                    0.00013108665374006608,
                    0.00014747248545757434,
                    0.0016221973400333178,
                    0.00014747248545757434,
                    0.00050249883933692,
                    0.0003714121855968539,
                    0.00012562470983423,
                    0.00009831499030504956,
                    0.00025124941966846,
                    0.00012562470983423,
                    0.00014747248545757434,
                    0.00048065106371357566,
                    0.0003331785782560013,
                    0.0007755960346287244,
                    0.00018024414889259086,
                    0.0003604882977851817,
                    0.0006608952126061665,
                    0.00015293442936341044,
                    0.0007865199224403965,
                    0.00018024414889259086,
                    0.00012016276592839392,
                    0.00012016276592839392,
                    0.00015293442936341044,
                    0.00010377693421088566,
                    0.00028402108310347654,
                    0.0006226616052653139,
                    0.0033427096703716854,
                    0.02726056203402791,
                    0.00018570609279842696,
                    0.00026763525138596826,
                    0.00027855913919764045,
                    0.004560723161373133,
                    0.00809460086844908,
                    0.0005571182783952809,
                    0.00010377693421088566,
                    0.00031133080263265697,
                    0.006450555752792419,
                    0.013600240325531856,
                    0.005145151159297594,
                    0.01575770816833711,
                    0.00013108665374006608,
                    0.005396400578966054,
                    0.00040418384903187043,
                    0.00012562470983423,
                    0.0010213835103913484,
                    0.00288936832618729,
                    0.0003386405221618374,
                    0.00012562470983423,
                    0.00010923887811672174,
                    0.0003004069148209848,
                    0.00013108665374006608,
                    0.00013654859764590218,
                    0.0007865199224403965,
                    0.00075374825900538,
                    0.00027309719529180435,
                    0.00009831499030504956,
                    0.0003604882977851817,
                    0.00019662998061009912,
                    0.00075374825900538,
                    0.000688204932135347,
                    0.0002130158123276074,
                    0.00039872190512603434,
                    0.0001638583171750826,
                    0.00009831499030504956,
                    0.0003604882977851817,
                    0.00025671136357429607,
                    0.00009285304639921348,
                    0.0005789660540186253,
                    0.0015293442936341044,
                    0.0009066826883687905,
                    0.00048611300761941176,
                    0.00032225469044432916,
                    0.0000873911024933774,
                    0.00026763525138596826,
                    0.0004151077368435426,
                    0.001578501788786629,
                    0.00028402108310347654,
                    0.0045552612174672965,
                    0.0011360843324139062,
                    0.0028129011115055847,
                    0.00043149356856105086,
                    0.00010923887811672174,
                    0.0002075538684217713,
                    0.0002075538684217713,
                    0.0001747822049867548,
                    0.00009831499030504956,
                    0.0005735041101127892,
                    0.0006008138296419696,
                    0.00031133080263265697,
                    0.0001638583171750826,
                    0.0010213835103913484,
                    0.003457410492394243,
                    0.0001638583171750826,
                    0.00025124941966846,
                    0.00021847775623344348,
                    0.0002075538684217713,
                    0.00010923887811672174,
                    0.00019116803670426305,
                    0.00009285304639921348,
                    0.0003386405221618374,
                    0.00024032553185678783,
                    0.0001638583171750826,
                    0.0001693202610809187,
                    0.00027309719529180435,
                    0.000497036895431084,
                    0.0011688559958489225,
                    0.0003386405221618374,
                    0.00012016276592839392,
                    0.0001693202610809187,
                    0.00012016276592839392,
                    0.0003004069148209848,
                    0.0010377693421088565,
                    0.0019116803670426305,
                    0.00014201054155173827,
                    0.00010377693421088566,
                    0.00022393970013927957,
                    0.00015839637326924653,
                    0.0001693202610809187,
                    0.0003386405221618374,
                    0.0000873911024933774,
                    0.00018024414889259086,
                    0.00014201054155173827,
                    0.00010923887811672174,
                    0.00014201054155173827,
                    0.00014747248545757434,
                    0.00019662998061009912,
                    0.00013654859764590218,
                    0.0001693202610809187,
                    0.00062812354917115,
                    0.0003604882977851817,
                    0.00013108665374006608,
                    0.00009831499030504956,
                    0.0005134227271485921,
                    0.0001638583171750826,
                    0.0001638583171750826,
                    0.000688204932135347,
                    0.00019662998061009912,
                    0.0001638583171750826,
                    0.00018570609279842696,
                    0.001452877078952399,
                    0.0002075538684217713,
                    0.0003495644099735096,
                    0.003588497146134309,
                    0.00024578747576262393,
                    0.0003877980173143622,
                    0.0001638583171750826,
                    0.00028948302700931264,
                    0.00021847775623344348,
                    0.00018024414889259086,
                    0.0003004069148209848,
                    0.0012890187617773166,
                    0.002070076740311877,
                    0.0008520632493104296,
                    0.001813365376737581,
                    0.00028402108310347654,
                    0.00040418384903187043,
                    0.000688204932135347,
                    0.0001693202610809187,
                    0.00020209192451593522,
                    0.00040418384903187043,
                    0.0002075538684217713,
                    0.00010377693421088566,
                    0.00025124941966846,
                    0.00010377693421088566,
                    0.00020209192451593522,
                    0.00009831499030504956,
                    0.002337711991697845,
                    0.00012016276592839392,
                    0.0017805937133025644,
                    0.0009503782396154791,
                    0.0003441024660676735,
                    0.0008466013054045935,
                    0.0002949449709151487,
                    0.0018024414889259088,
                    0.015763170112242948,
                    0.00018024414889259086,
                    0.00014201054155173827,
                    0.001250785154436464,
                    0.00043149356856105086,
                    0.0002130158123276074,
                    0.0005134227271485921,
                    0.001125160444602234,
                    0.00031679274653849306,
                    0.00020209192451593522,
                    0.0009121446322746266,
                    0.00014747248545757434,
                    0.00028948302700931264,
                    0.00024032553185678783,
                    0.00014201054155173827,
                    0.00022940164404511567,
                    0.00012016276592839392,
                    0.0002075538684217713,
                    0.00012562470983423,
                    0.00039872190512603434,
                    0.0008684490810279378,
                    0.00025124941966846,
                    0.006188382445312286,
                    0.0004151077368435426,
                    0.00021847775623344348,
                    0.00014201054155173827,
                    0.00009831499030504956,
                    0.00014201054155173827,
                    0.00011470082202255783,
                    0.00014201054155173827,
                    0.0006445093808886583,
                    0.00019116803670426305,
                    0.0004642652319960674,
                    0.00010923887811672174,
                    0.0004260316246552148,
                    0.00009831499030504956,
                    0.0003331785782560013,
                    0.0019662998061009914,
                    0.0018242892645492532,
                    0.00018570609279842696,
                    0.0001638583171750826,
                    0.0003823360734085261,
                    0.00010377693421088566,
                    0.0006335854930769861,
                    0.00025124941966846,
                    0.00012562470983423,
                    0.00014747248545757434,
                    0.0005079607832427561,
                    0.0003714121855968539,
                    0.00012016276592839392,
                    0.0001638583171750826,
                    0.00022393970013927957,
                    0.00021847775623344348,
                    0.00028402108310347654,
                    0.0007428243711937078,
                    0.00018570609279842696,
                    0.0004915749515252479,
                    0.00010923887811672174,
                    0.00048065106371357566,
                    0.0009066826883687905,
                    0.0005789660540186253,
                    0.0002130158123276074,
                    0.001125160444602234,
                    0.0014037195837998744,
                    0.001065079061638037,
                    0.001562115957069121,
                    0.0003386405221618374,
                    0.00025671136357429607,
                    0.00009285304639921348,
                    0.004637190376054838,
                    0.00012016276592839392,
                    0.00026217330748013216,
                    0.00014201054155173827,
                    0.00009831499030504956,
                    0.0003277166343501652,
                    0.00050249883933692,
                    0.0003714121855968539,
                    0.00009831499030504956,
                    0.00050249883933692,
                    0.000497036895431084,
                    0.00012016276592839392,
                    0.0003823360734085261,
                    0.0002075538684217713,
                    0.0004205696807493787,
                    0.0003004069148209848,
                    0.00044241745637272305,
                    0.00022393970013927957,
                    0.00023486358795095174,
                    0.0007701340907228883,
                    0.0006663571565120026,
                    0.00023486358795095174,
                    0.00022940164404511567,
                    0.00014201054155173827,
                    0.00028402108310347654,
                    0.000688204932135347,
                    0.0000873911024933774,
                    0.0005735041101127892,
                    0.0007100527077586914,
                    0.0006445093808886583,
                    0.00009831499030504956,
                    0.00025671136357429607,
                    0.00022393970013927957,
                    0.00012016276592839392,
                    0.00010923887811672174,
                    0.0003331785782560013,
                    0.0001747822049867548,
                    0.00009831499030504956,
                    0.00013108665374006608,
                    0.00014201054155173827,
                    0.0008575251932162656,
                    0.00022940164404511567,
                    0.0006171996613594778,
                    0.0000873911024933774,
                    0.00039872190512603434,
                    0.0008848349127454461,
                    0.000999535734768004,
                    0.00015293442936341044,
                    0.00011470082202255783,
                    0.00009831499030504956,
                    0.0003386405221618374,
                    0.0006008138296419696,
                    0.00011470082202255783,
                    0.0001747822049867548,
                    0.00018024414889259086,
                    0.0001638583171750826,
                    0.0015457301253516127,
                    0.0006335854930769861,
                    0.00011470082202255783,
                    0.00018024414889259086,
                    0.00010377693421088566,
                    0.0000873911024933774,
                    0.0000873911024933774,
                    0.0008466013054045935,
                    0.0000873911024933774,
                    0.00023486358795095174,
                    0.0010760029494497091,
                    0.00013654859764590218,
                    0.0003004069148209848,
                    0.0008629871371221017,
                    0.0001638583171750826,
                    0.0009667640713329874,
                    0.0001747822049867548,
                    0.0008411393614987574,
                    0.00019116803670426305,
                    0.0001638583171750826,
                    0.00018024414889259086,
                    0.0004915749515252479,
                    0.00024032553185678783,
                    0.0000873911024933774,
                    0.00018570609279842696,
                    0.00009285304639921348,
                    0.00025124941966846,
                    0.00012562470983423,
                    0.0018024414889259088,
                    0.00014201054155173827,
                    0.00022940164404511567,
                    0.00015839637326924653,
                    0.00012562470983423,
                    0.00010377693421088566,
                    0.00012016276592839392,
                    0.00011470082202255783,
                    0.0005953518857361335,
                    0.0002130158123276074,
                    0.00013654859764590218,
                    0.00026763525138596826,
                    0.0007482863150995439,
                    0.0005079607832427561,
                    0.00012016276592839392,
                    0.0008247535297812492,
                    0.0017805937133025644,
                    0.0004915749515252479,
                    0.0024524128137204033,
                    0.0012726329300598084,
                    0.00039325996122019824,
                    0.00022940164404511567,
                    0.0018570609279842695,
                    0.0000873911024933774,
                    0.00022393970013927957,
                    0.0002949449709151487,
                    0.00018570609279842696,
                    0.00009831499030504956,
                    0.0002949449709151487,
                    0.007149684572739438,
                    0.0015948876205041373,
                    0.00009831499030504956,
                    0.0001747822049867548,
                    0.0008192915858754131,
                    0.00048611300761941176,
                    0.00011470082202255783,
                    0.003637654641286834,
                    0.003916213780484475,
                    0.0003823360734085261,
                    0.00015839637326924653,
                    0.00040418384903187043,
                    0.0000873911024933774,
                    0.0007755960346287244,
                    0.00026763525138596826,
                    0.0004205696807493787,
                    0.00014201054155173827,
                    0.0013600240325531857,
                    0.0001638583171750826,
                    0.00012016276592839392,
                    0.00018024414889259086,
                    0.0016495070595624983,
                    0.0006991288199470192,
                    0.0009503782396154791,
                    0.00009285304639921348,
                    0.0000873911024933774,
                    0.0008957588005571183,
                    0.0011196985006963979,
                    0.007996285878144032,
                    0.0013927956959882022,
                    0.0008629871371221017,
                    0.0012562470983423,
                    0.0007755960346287244,
                    0.00023486358795095174,
                    0.00015839637326924653,
                    0.00014201054155173827,
                    0.00018570609279842696,
                    0.0001638583171750826,
                    0.0025780375235546333,
                    0.00012016276592839392,
                    0.00013108665374006608,
                    0.00039325996122019824,
                    0.00023486358795095174,
                    0.0003659502416910178,
                    0.0007974438102520687,
                    0.0014091815277057105,
                    0.00026763525138596826,
                    0.0001747822049867548,
                    0.00014201054155173827,
                    0.00018570609279842696,
                    0.0005461943905836087,
                    0.00012562470983423,
                    0.0006171996613594778,
                    0.0017150503864325312,
                    0.0005571182783952809,
                    0.00045334134418439524,
                    0.0001638583171750826,
                    0.00013108665374006608,
                    0.00012562470983423,
                    0.00013108665374006608,
                    0.0009285304639921348,
                    0.00025124941966846,
                    0.00009831499030504956,
                    0.0013654859764590218,
                    0.00018570609279842696,
                    0.0005188846710544282,
                    0.00028948302700931264,
                    0.006565256574814977,
                    0.0010596171177322008,
                    0.0018952945353251222,
                    0.0006991288199470192,
                    0.0011743179397547586,
                    0.0016058115083158095,
                    0.00024032553185678783,
                    0.002130158123276074,
                    0.0003823360734085261,
                    0.00012016276592839392,
                    0.00013108665374006608,
                    0.0008466013054045935,
                    0.0004205696807493787,
                    0.000939454351803807,
                    0.00010377693421088566,
                    0.0003495644099735096,
                    0.0008629871371221017,
                    0.0005134227271485921,
                    0.00009285304639921348,
                    0.00009831499030504956,
                    0.00048065106371357566,
                    0.008187453914848295,
                    0.00015839637326924653,
                    0.00075374825900538,
                    0.00175874593767922,
                    0.0009176065761804627,
                    0.0006335854930769861,
                    0.0002130158123276074,
                    0.001190703771472267,
                    0.0004151077368435426,
                    0.003757817407215228,
                    0.0010159215664855123,
                    0.0008356774175929213,
                    0.002310402272168665,
                    0.0004260316246552148,
                    0.0004915749515252479,
                    0.004768277029794904,
                    0.0008247535297812492,
                    0.00062812354917115,
                    0.0014201054155173827,
                    0.0005352705027719365,
                    0.00009831499030504956,
                    0.00087937296883961,
                    0.00013108665374006608,
                    0.0008466013054045935,
                    0.00027855913919764045,
                    0.00020209192451593522,
                    0.00010923887811672174,
                    0.00028402108310347654,
                    0.00026217330748013216,
                    0.00013108665374006608,
                    0.002124696179370238,
                    0.009410929349755579,
                    0.00027855913919764045,
                    0.0022885544965453204,
                    0.0052325422617909715,
                    0.00009831499030504956,
                    0.005254390037414316,
                    0.00018024414889259086,
                    0.00012016276592839392,
                    0.0020427670207826968,
                    0.0002075538684217713,
                    0.0001747822049867548,
                    0.003632192697380998,
                    0.00020209192451593522,
                    0.00031133080263265697,
                    0.0006772810443236748,
                    0.00019116803670426305,
                    0.0018406750962667614,
                    0.00010377693421088566,
                    0.006827429882295109,
                    0.00037687412950269,
                    0.0006772810443236748,
                    0.0004151077368435426,
                    0.008618947483409346,
                    0.0008083676980637409,
                    0.0005735041101127892,
                    0.00010923887811672174,
                    0.00200999535734768,
                    0.0015839637326924652,
                    0.00050249883933692,
                    0.00020209192451593522,
                    0.0005352705027719365,
                    0.00010377693421088566,
                    0.00027855913919764045,
                    0.00013108665374006608,
                    0.00010377693421088566,
                    0.00019116803670426305,
                    0.00020209192451593522,
                    0.00013654859764590218,
                    0.0003877980173143622,
                    0.00028402108310347654,
                    0.00028402108310347654,
                    0.0005079607832427561,
                    0.00012016276592839392,
                    0.0008411393614987574,
                    0.00009831499030504956,
                    0.00012016276592839392,
                    0.00015293442936341044,
                    0.00012016276592839392,
                    0.0016495070595624983,
                    0.0004260316246552148,
                    0.0000873911024933774,
                    0.00012562470983423,
                    0.00028948302700931264,
                    0.0006608952126061665,
                    0.0004260316246552148,
                    0.0001638583171750826,
                    0.0001638583171750826,
                    0.0013927956959882022,
                    0.0002949449709151487,
                    0.00012016276592839392,
                    0.0008411393614987574,
                    0.0006062757735478056,
                    0.0000873911024933774,
                    0.00010923887811672174,
                    0.0002130158123276074,
                    0.00009831499030504956,
                    0.00014747248545757434,
                    0.0005844279979244613,
                    0.001321790425212333,
                    0.00010377693421088566,
                    0.00044241745637272305,
                    0.00012016276592839392,
                    0.00021847775623344348,
                    0.001201627659283939,
                    0.00012562470983423,
                    0.00030586885872682087,
                    0.00012562470983423,
                    0.00012562470983423,
                    0.00012016276592839392,
                    0.00050249883933692,
                    0.00028402108310347654,
                    0.00012562470983423,
                    0.0001693202610809187,
                    0.00009831499030504956,
                    0.00027855913919764045,
                    0.0002075538684217713,
                    0.00045334134418439524,
                    0.0001638583171750826,
                    0.00031679274653849306,
                    0.00027855913919764045,
                    0.0002075538684217713,
                    0.0008957588005571183,
                    0.0007865199224403965,
                    0.00018570609279842696,
                    0.0035994210339459812,
                    0.002255782833110304,
                    0.0005571182783952809,
                    0.0026763525138596826,
                    0.00018570609279842696,
                    0.00015293442936341044,
                    0.0003386405221618374,
                    0.0008629871371221017,
                    0.0001693202610809187,
                    0.0002949449709151487,
                    0.0006827429882295109,
                    0.0001638583171750826,
                    0.0012289373788131196,
                    0.00075374825900538,
                    0.0001693202610809187,
                    0.0003823360734085261,
                    0.0007646721468170522,
                    0.0003004069148209848,
                    0.00025124941966846,
                    0.0005352705027719365,
                    0.00009285304639921348,
                    0.00031679274653849306,
                    0.0008029057541579048,
                    0.001693202610809187,
                    0.001567577900974957,
                    0.00009831499030504956,
                    0.00012016276592839392,
                    0.00011470082202255783,
                    0.00027309719529180435,
                    0.0001638583171750826,
                    0.00022393970013927957,
                    0.00021847775623344348,
                    0.0004642652319960674,
                    0.00018570609279842696,
                    0.00012016276592839392,
                    0.00018570609279842696,
                    0.00009831499030504956,
                    0.00012016276592839392,
                    0.0013327143130240052,
                    0.002698200289483027,
                    0.0006936668760411831,
                    0.0003823360734085261,
                    0.0006008138296419696,
                    0.00026763525138596826,
                    0.00027855913919764045,
                    0.0001693202610809187,
                    0.00031679274653849306,
                    0.0001747822049867548,
                    0.0002075538684217713,
                    0.00009285304639921348,
                    0.0001638583171750826,
                    0.0002075538684217713,
                    0.00025124941966846,
                    0.00024032553185678783,
                    0.0001638583171750826,
                    0.00014201054155173827,
                    0.00015839637326924653,
                    0.00009831499030504956,
                    0.0000873911024933774,
                    0.0007100527077586914,
                    0.00048611300761941176,
                    0.00027855913919764045,
                    0.0007319004833820356,
                    0.0011852418275664308,
                    0.0007974438102520687,
                    0.0012125515470956113,
                    0.00021847775623344348,
                    0.00020209192451593522,
                    0.005412786410683562,
                    0.00025124941966846,
                    0.00028402108310347654,
                    0.005440096130212743,
                    0.0005461943905836087,
                    0.0008575251932162656,
                    0.0018461370401725975,
                    0.00009285304639921348,
                    0.00012016276592839392,
                    0.00009831499030504956,
                    0.003572111314416801,
                    0.005931671081737991,
                    0.0019936095256301717,
                    0.0006663571565120026,
                    0.010071824562361744,
                    0.0012343993227189557,
                    0.00028948302700931264,
                    0.0000873911024933774,
                    0.0002075538684217713,
                    0.00044787940027855914,
                    0.00025124941966846,
                    0.03428462189693312,
                    0.00009831499030504956,
                    0.0007373624272878717,
                    0.0006718191004178387,
                    0.002692738345577191,
                    0.005560258896141136,
                    0.003654040473004342,
                    0.0003823360734085261,
                    0.00009831499030504956,
                    0.00022940164404511567,
                    0.0010978507250730535,
                    0.002059152852500205,
                    0.00019662998061009912,
                    0.00014201054155173827,
                    0.00012016276592839392,
                    0.00018570609279842696,
                    0.0002949449709151487,
                    0.0006608952126061665,
                    0.00030586885872682087,
                    0.00019662998061009912,
                    0.00019662998061009912,
                    0.0031788513531966025,
                    0.0000873911024933774,
                    0.00062812354917115,
                    0.0004697271759019035,
                    0.00022393970013927957,
                    0.00020209192451593522,
                    0.00022940164404511567,
                    0.0006445093808886583,
                    0.00027309719529180435,
                    0.0002130158123276074,
                    0.0001693202610809187,
                    0.00009285304639921348,
                    0.000688204932135347,
                    0.0008302154736870852,
                    0.00018570609279842696,
                    0.00026763525138596826,
                    0.000562580222301117,
                    0.0009667640713329874,
                    0.02268345304093727
                  ],
                  "y0": " ",
                  "yaxis": "y"
                }
              ],
              "layout": {
                "boxmode": "group",
                "legend": {
                  "tracegroupgap": 0
                },
                "margin": {
                  "t": 60
                },
                "template": {
                  "data": {
                    "bar": [
                      {
                        "error_x": {
                          "color": "#2a3f5f"
                        },
                        "error_y": {
                          "color": "#2a3f5f"
                        },
                        "marker": {
                          "line": {
                            "color": "#E5ECF6",
                            "width": 0.5
                          },
                          "pattern": {
                            "fillmode": "overlay",
                            "size": 10,
                            "solidity": 0.2
                          }
                        },
                        "type": "bar"
                      }
                    ],
                    "barpolar": [
                      {
                        "marker": {
                          "line": {
                            "color": "#E5ECF6",
                            "width": 0.5
                          },
                          "pattern": {
                            "fillmode": "overlay",
                            "size": 10,
                            "solidity": 0.2
                          }
                        },
                        "type": "barpolar"
                      }
                    ],
                    "carpet": [
                      {
                        "aaxis": {
                          "endlinecolor": "#2a3f5f",
                          "gridcolor": "white",
                          "linecolor": "white",
                          "minorgridcolor": "white",
                          "startlinecolor": "#2a3f5f"
                        },
                        "baxis": {
                          "endlinecolor": "#2a3f5f",
                          "gridcolor": "white",
                          "linecolor": "white",
                          "minorgridcolor": "white",
                          "startlinecolor": "#2a3f5f"
                        },
                        "type": "carpet"
                      }
                    ],
                    "choropleth": [
                      {
                        "colorbar": {
                          "outlinewidth": 0,
                          "ticks": ""
                        },
                        "type": "choropleth"
                      }
                    ],
                    "contour": [
                      {
                        "colorbar": {
                          "outlinewidth": 0,
                          "ticks": ""
                        },
                        "colorscale": [
                          [
                            0,
                            "#0d0887"
                          ],
                          [
                            0.1111111111111111,
                            "#46039f"
                          ],
                          [
                            0.2222222222222222,
                            "#7201a8"
                          ],
                          [
                            0.3333333333333333,
                            "#9c179e"
                          ],
                          [
                            0.4444444444444444,
                            "#bd3786"
                          ],
                          [
                            0.5555555555555556,
                            "#d8576b"
                          ],
                          [
                            0.6666666666666666,
                            "#ed7953"
                          ],
                          [
                            0.7777777777777778,
                            "#fb9f3a"
                          ],
                          [
                            0.8888888888888888,
                            "#fdca26"
                          ],
                          [
                            1,
                            "#f0f921"
                          ]
                        ],
                        "type": "contour"
                      }
                    ],
                    "contourcarpet": [
                      {
                        "colorbar": {
                          "outlinewidth": 0,
                          "ticks": ""
                        },
                        "type": "contourcarpet"
                      }
                    ],
                    "heatmap": [
                      {
                        "colorbar": {
                          "outlinewidth": 0,
                          "ticks": ""
                        },
                        "colorscale": [
                          [
                            0,
                            "#0d0887"
                          ],
                          [
                            0.1111111111111111,
                            "#46039f"
                          ],
                          [
                            0.2222222222222222,
                            "#7201a8"
                          ],
                          [
                            0.3333333333333333,
                            "#9c179e"
                          ],
                          [
                            0.4444444444444444,
                            "#bd3786"
                          ],
                          [
                            0.5555555555555556,
                            "#d8576b"
                          ],
                          [
                            0.6666666666666666,
                            "#ed7953"
                          ],
                          [
                            0.7777777777777778,
                            "#fb9f3a"
                          ],
                          [
                            0.8888888888888888,
                            "#fdca26"
                          ],
                          [
                            1,
                            "#f0f921"
                          ]
                        ],
                        "type": "heatmap"
                      }
                    ],
                    "heatmapgl": [
                      {
                        "colorbar": {
                          "outlinewidth": 0,
                          "ticks": ""
                        },
                        "colorscale": [
                          [
                            0,
                            "#0d0887"
                          ],
                          [
                            0.1111111111111111,
                            "#46039f"
                          ],
                          [
                            0.2222222222222222,
                            "#7201a8"
                          ],
                          [
                            0.3333333333333333,
                            "#9c179e"
                          ],
                          [
                            0.4444444444444444,
                            "#bd3786"
                          ],
                          [
                            0.5555555555555556,
                            "#d8576b"
                          ],
                          [
                            0.6666666666666666,
                            "#ed7953"
                          ],
                          [
                            0.7777777777777778,
                            "#fb9f3a"
                          ],
                          [
                            0.8888888888888888,
                            "#fdca26"
                          ],
                          [
                            1,
                            "#f0f921"
                          ]
                        ],
                        "type": "heatmapgl"
                      }
                    ],
                    "histogram": [
                      {
                        "marker": {
                          "pattern": {
                            "fillmode": "overlay",
                            "size": 10,
                            "solidity": 0.2
                          }
                        },
                        "type": "histogram"
                      }
                    ],
                    "histogram2d": [
                      {
                        "colorbar": {
                          "outlinewidth": 0,
                          "ticks": ""
                        },
                        "colorscale": [
                          [
                            0,
                            "#0d0887"
                          ],
                          [
                            0.1111111111111111,
                            "#46039f"
                          ],
                          [
                            0.2222222222222222,
                            "#7201a8"
                          ],
                          [
                            0.3333333333333333,
                            "#9c179e"
                          ],
                          [
                            0.4444444444444444,
                            "#bd3786"
                          ],
                          [
                            0.5555555555555556,
                            "#d8576b"
                          ],
                          [
                            0.6666666666666666,
                            "#ed7953"
                          ],
                          [
                            0.7777777777777778,
                            "#fb9f3a"
                          ],
                          [
                            0.8888888888888888,
                            "#fdca26"
                          ],
                          [
                            1,
                            "#f0f921"
                          ]
                        ],
                        "type": "histogram2d"
                      }
                    ],
                    "histogram2dcontour": [
                      {
                        "colorbar": {
                          "outlinewidth": 0,
                          "ticks": ""
                        },
                        "colorscale": [
                          [
                            0,
                            "#0d0887"
                          ],
                          [
                            0.1111111111111111,
                            "#46039f"
                          ],
                          [
                            0.2222222222222222,
                            "#7201a8"
                          ],
                          [
                            0.3333333333333333,
                            "#9c179e"
                          ],
                          [
                            0.4444444444444444,
                            "#bd3786"
                          ],
                          [
                            0.5555555555555556,
                            "#d8576b"
                          ],
                          [
                            0.6666666666666666,
                            "#ed7953"
                          ],
                          [
                            0.7777777777777778,
                            "#fb9f3a"
                          ],
                          [
                            0.8888888888888888,
                            "#fdca26"
                          ],
                          [
                            1,
                            "#f0f921"
                          ]
                        ],
                        "type": "histogram2dcontour"
                      }
                    ],
                    "mesh3d": [
                      {
                        "colorbar": {
                          "outlinewidth": 0,
                          "ticks": ""
                        },
                        "type": "mesh3d"
                      }
                    ],
                    "parcoords": [
                      {
                        "line": {
                          "colorbar": {
                            "outlinewidth": 0,
                            "ticks": ""
                          }
                        },
                        "type": "parcoords"
                      }
                    ],
                    "pie": [
                      {
                        "automargin": true,
                        "type": "pie"
                      }
                    ],
                    "scatter": [
                      {
                        "marker": {
                          "colorbar": {
                            "outlinewidth": 0,
                            "ticks": ""
                          }
                        },
                        "type": "scatter"
                      }
                    ],
                    "scatter3d": [
                      {
                        "line": {
                          "colorbar": {
                            "outlinewidth": 0,
                            "ticks": ""
                          }
                        },
                        "marker": {
                          "colorbar": {
                            "outlinewidth": 0,
                            "ticks": ""
                          }
                        },
                        "type": "scatter3d"
                      }
                    ],
                    "scattercarpet": [
                      {
                        "marker": {
                          "colorbar": {
                            "outlinewidth": 0,
                            "ticks": ""
                          }
                        },
                        "type": "scattercarpet"
                      }
                    ],
                    "scattergeo": [
                      {
                        "marker": {
                          "colorbar": {
                            "outlinewidth": 0,
                            "ticks": ""
                          }
                        },
                        "type": "scattergeo"
                      }
                    ],
                    "scattergl": [
                      {
                        "marker": {
                          "colorbar": {
                            "outlinewidth": 0,
                            "ticks": ""
                          }
                        },
                        "type": "scattergl"
                      }
                    ],
                    "scattermapbox": [
                      {
                        "marker": {
                          "colorbar": {
                            "outlinewidth": 0,
                            "ticks": ""
                          }
                        },
                        "type": "scattermapbox"
                      }
                    ],
                    "scatterpolar": [
                      {
                        "marker": {
                          "colorbar": {
                            "outlinewidth": 0,
                            "ticks": ""
                          }
                        },
                        "type": "scatterpolar"
                      }
                    ],
                    "scatterpolargl": [
                      {
                        "marker": {
                          "colorbar": {
                            "outlinewidth": 0,
                            "ticks": ""
                          }
                        },
                        "type": "scatterpolargl"
                      }
                    ],
                    "scatterternary": [
                      {
                        "marker": {
                          "colorbar": {
                            "outlinewidth": 0,
                            "ticks": ""
                          }
                        },
                        "type": "scatterternary"
                      }
                    ],
                    "surface": [
                      {
                        "colorbar": {
                          "outlinewidth": 0,
                          "ticks": ""
                        },
                        "colorscale": [
                          [
                            0,
                            "#0d0887"
                          ],
                          [
                            0.1111111111111111,
                            "#46039f"
                          ],
                          [
                            0.2222222222222222,
                            "#7201a8"
                          ],
                          [
                            0.3333333333333333,
                            "#9c179e"
                          ],
                          [
                            0.4444444444444444,
                            "#bd3786"
                          ],
                          [
                            0.5555555555555556,
                            "#d8576b"
                          ],
                          [
                            0.6666666666666666,
                            "#ed7953"
                          ],
                          [
                            0.7777777777777778,
                            "#fb9f3a"
                          ],
                          [
                            0.8888888888888888,
                            "#fdca26"
                          ],
                          [
                            1,
                            "#f0f921"
                          ]
                        ],
                        "type": "surface"
                      }
                    ],
                    "table": [
                      {
                        "cells": {
                          "fill": {
                            "color": "#EBF0F8"
                          },
                          "line": {
                            "color": "white"
                          }
                        },
                        "header": {
                          "fill": {
                            "color": "#C8D4E3"
                          },
                          "line": {
                            "color": "white"
                          }
                        },
                        "type": "table"
                      }
                    ]
                  },
                  "layout": {
                    "annotationdefaults": {
                      "arrowcolor": "#2a3f5f",
                      "arrowhead": 0,
                      "arrowwidth": 1
                    },
                    "autotypenumbers": "strict",
                    "coloraxis": {
                      "colorbar": {
                        "outlinewidth": 0,
                        "ticks": ""
                      }
                    },
                    "colorscale": {
                      "diverging": [
                        [
                          0,
                          "#8e0152"
                        ],
                        [
                          0.1,
                          "#c51b7d"
                        ],
                        [
                          0.2,
                          "#de77ae"
                        ],
                        [
                          0.3,
                          "#f1b6da"
                        ],
                        [
                          0.4,
                          "#fde0ef"
                        ],
                        [
                          0.5,
                          "#f7f7f7"
                        ],
                        [
                          0.6,
                          "#e6f5d0"
                        ],
                        [
                          0.7,
                          "#b8e186"
                        ],
                        [
                          0.8,
                          "#7fbc41"
                        ],
                        [
                          0.9,
                          "#4d9221"
                        ],
                        [
                          1,
                          "#276419"
                        ]
                      ],
                      "sequential": [
                        [
                          0,
                          "#0d0887"
                        ],
                        [
                          0.1111111111111111,
                          "#46039f"
                        ],
                        [
                          0.2222222222222222,
                          "#7201a8"
                        ],
                        [
                          0.3333333333333333,
                          "#9c179e"
                        ],
                        [
                          0.4444444444444444,
                          "#bd3786"
                        ],
                        [
                          0.5555555555555556,
                          "#d8576b"
                        ],
                        [
                          0.6666666666666666,
                          "#ed7953"
                        ],
                        [
                          0.7777777777777778,
                          "#fb9f3a"
                        ],
                        [
                          0.8888888888888888,
                          "#fdca26"
                        ],
                        [
                          1,
                          "#f0f921"
                        ]
                      ],
                      "sequentialminus": [
                        [
                          0,
                          "#0d0887"
                        ],
                        [
                          0.1111111111111111,
                          "#46039f"
                        ],
                        [
                          0.2222222222222222,
                          "#7201a8"
                        ],
                        [
                          0.3333333333333333,
                          "#9c179e"
                        ],
                        [
                          0.4444444444444444,
                          "#bd3786"
                        ],
                        [
                          0.5555555555555556,
                          "#d8576b"
                        ],
                        [
                          0.6666666666666666,
                          "#ed7953"
                        ],
                        [
                          0.7777777777777778,
                          "#fb9f3a"
                        ],
                        [
                          0.8888888888888888,
                          "#fdca26"
                        ],
                        [
                          1,
                          "#f0f921"
                        ]
                      ]
                    },
                    "colorway": [
                      "#636efa",
                      "#EF553B",
                      "#00cc96",
                      "#ab63fa",
                      "#FFA15A",
                      "#19d3f3",
                      "#FF6692",
                      "#B6E880",
                      "#FF97FF",
                      "#FECB52"
                    ],
                    "font": {
                      "color": "#2a3f5f"
                    },
                    "geo": {
                      "bgcolor": "white",
                      "lakecolor": "white",
                      "landcolor": "#E5ECF6",
                      "showlakes": true,
                      "showland": true,
                      "subunitcolor": "white"
                    },
                    "hoverlabel": {
                      "align": "left"
                    },
                    "hovermode": "closest",
                    "mapbox": {
                      "style": "light"
                    },
                    "paper_bgcolor": "white",
                    "plot_bgcolor": "#E5ECF6",
                    "polar": {
                      "angularaxis": {
                        "gridcolor": "white",
                        "linecolor": "white",
                        "ticks": ""
                      },
                      "bgcolor": "#E5ECF6",
                      "radialaxis": {
                        "gridcolor": "white",
                        "linecolor": "white",
                        "ticks": ""
                      }
                    },
                    "scene": {
                      "xaxis": {
                        "backgroundcolor": "#E5ECF6",
                        "gridcolor": "white",
                        "gridwidth": 2,
                        "linecolor": "white",
                        "showbackground": true,
                        "ticks": "",
                        "zerolinecolor": "white"
                      },
                      "yaxis": {
                        "backgroundcolor": "#E5ECF6",
                        "gridcolor": "white",
                        "gridwidth": 2,
                        "linecolor": "white",
                        "showbackground": true,
                        "ticks": "",
                        "zerolinecolor": "white"
                      },
                      "zaxis": {
                        "backgroundcolor": "#E5ECF6",
                        "gridcolor": "white",
                        "gridwidth": 2,
                        "linecolor": "white",
                        "showbackground": true,
                        "ticks": "",
                        "zerolinecolor": "white"
                      }
                    },
                    "shapedefaults": {
                      "line": {
                        "color": "#2a3f5f"
                      }
                    },
                    "ternary": {
                      "aaxis": {
                        "gridcolor": "white",
                        "linecolor": "white",
                        "ticks": ""
                      },
                      "baxis": {
                        "gridcolor": "white",
                        "linecolor": "white",
                        "ticks": ""
                      },
                      "bgcolor": "#E5ECF6",
                      "caxis": {
                        "gridcolor": "white",
                        "linecolor": "white",
                        "ticks": ""
                      }
                    },
                    "title": {
                      "x": 0.05
                    },
                    "xaxis": {
                      "automargin": true,
                      "gridcolor": "white",
                      "linecolor": "white",
                      "ticks": "",
                      "title": {
                        "standoff": 15
                      },
                      "zerolinecolor": "white",
                      "zerolinewidth": 2
                    },
                    "yaxis": {
                      "automargin": true,
                      "gridcolor": "white",
                      "linecolor": "white",
                      "ticks": "",
                      "title": {
                        "standoff": 15
                      },
                      "zerolinecolor": "white",
                      "zerolinewidth": 2
                    }
                  }
                },
                "xaxis": {
                  "anchor": "y",
                  "domain": [
                    0,
                    1
                  ]
                },
                "yaxis": {
                  "anchor": "x",
                  "domain": [
                    0,
                    1
                  ],
                  "title": {
                    "text": "freq"
                  }
                }
              }
            }
          },
          "metadata": {},
          "output_type": "display_data"
        }
      ],
      "source": [
        "#Visualisation de la boite à moustache de la varaiable freq\n",
        "fig = px.box(Freq, y='freq')\n",
        "fig.show()"
      ]
    },
    {
      "cell_type": "markdown",
      "metadata": {},
      "source": [
        "La boite à moustache ci dessus confirme notre remarque conernant la distribution des fréquences. Face à ce problème et pour rendre les données répresentbles visualement on utilise une transformation adéquat. Il s'agit d'appliquer la racine dixième de la variable freq. Cela permet de diminuer l'écart entre les grandes et les petites valeurs. De plus, pour maintenir la notion de \"frequence\" qui varie entre 0 et 1 on divise les frequences transformées sur leurs somme totale."
      ]
    },
    {
      "cell_type": "code",
      "execution_count": 91,
      "metadata": {
        "colab": {
          "base_uri": "https://localhost:8080/",
          "height": 542
        },
        "id": "DVUfA-6jGjl8",
        "outputId": "03676123-f040-4a4a-d342-18fbe86d0b1c"
      },
      "outputs": [
        {
          "data": {
            "application/vnd.plotly.v1+json": {
              "config": {
                "plotlyServerURL": "https://plot.ly"
              },
              "data": [
                {
                  "alignmentgroup": "True",
                  "hovertemplate": "freq_trans=%{y}<extra></extra>",
                  "legendgroup": "",
                  "marker": {
                    "color": "#636efa"
                  },
                  "name": "",
                  "notched": false,
                  "offsetgroup": "",
                  "orientation": "v",
                  "showlegend": false,
                  "type": "box",
                  "x0": " ",
                  "xaxis": "x",
                  "y": [
                    0.0007222501834910917,
                    0.0008207447282824725,
                    0.0007222501834910917,
                    0.0007222501834910917,
                    0.0007315422161503907,
                    0.0007792111862037908,
                    0.000725467859127764,
                    0.0007740885799777205,
                    0.0008360220908734487,
                    0.0007824651446753689,
                    0.0009235038389194667,
                    0.000739879843290821,
                    0.0008386253774226817,
                    0.0009543599689701474,
                    0.0007038664823870548,
                    0.000790104924703147,
                    0.000725467859127764,
                    0.0007344170107819258,
                    0.0007222501834910917,
                    0.00082177777478806,
                    0.0008684541059356554,
                    0.00077049588179134,
                    0.000707901191449633,
                    0.0007957711536697821,
                    0.0007474489947688414,
                    0.0007686414106741149,
                    0.0007450021365527693,
                    0.0008023788041270723,
                    0.000707901191449633,
                    0.0007038664823870548,
                    0.0007424807400872133,
                    0.00077049588179134,
                    0.0008196998451384152,
                    0.0007856016924179189,
                    0.0008296475976725239,
                    0.0007450021365527693,
                    0.0007344170107819258,
                    0.0007038664823870548,
                    0.0007038664823870548,
                    0.0008557827287274427,
                    0.000725467859127764,
                    0.0009930127960237547,
                    0.0007740885799777205,
                    0.0008906984485903785,
                    0.0008992739548673124,
                    0.001021705809624676,
                    0.0008010959971926728,
                    0.0008997293997178377,
                    0.0009905544850926846,
                    0.0007667457755889644,
                    0.0008175733978909195,
                    0.0009356903592379492,
                    0.0006996122271173698,
                    0.0008969650385000721,
                    0.0008153959776421795,
                    0.000707901191449633,
                    0.0009144942620709229,
                    0.000919845923653563,
                    0.0008436236121670379,
                    0.0007371939615237413,
                    0.0010298043657123864,
                    0.0007188980775545643,
                    0.0008678272868525024,
                    0.0008131649341186346,
                    0.0007543854169912146,
                    0.0007498258190903108,
                    0.0008571984475600895,
                    0.0007587097110935405,
                    0.0007315422161503907,
                    0.0007344170107819258,
                    0.0009375890175632466,
                    0.0007344170107819258,
                    0.0008876668534044602,
                    0.0007686414106741149,
                    0.0009468840188508448,
                    0.0007498258190903108,
                    0.0007222501834910917,
                    0.000707901191449633,
                    0.0007344170107819258,
                    0.0007038664823870548,
                    0.0009605896220672227,
                    0.000974741039892839,
                    0.0007038664823870548,
                    0.0007188980775545643,
                    0.0008536188148808616,
                    0.0008186428353417644,
                    0.0007371939615237413,
                    0.0008207447282824725,
                    0.0008377656822388608,
                    0.000848368747177434,
                    0.000739879843290821,
                    0.0007984735194900979,
                    0.000775830134237122,
                    0.000960084180437782,
                    0.0008665612875315605,
                    0.000725467859127764,
                    0.000739879843290821,
                    0.0008619942399954042,
                    0.0012427558064714503,
                    0.0007038664823870548,
                    0.0009540923036810175,
                    0.0010256873486976716,
                    0.0007723110316578907,
                    0.000725467859127764,
                    0.0008061201672446473,
                    0.0008773996662147713,
                    0.0007371939615237413,
                    0.0007117389820698661,
                    0.000775830134237122,
                    0.0009249312299952691,
                    0.0007824651446753689,
                    0.000707901191449633,
                    0.0007153991047459809,
                    0.0010447015794021752,
                    0.0009067483419225204,
                    0.000707901191449633,
                    0.0007222501834910917,
                    0.000707901191449633,
                    0.0007840475339949776,
                    0.0007824651446753689,
                    0.0007222501834910917,
                    0.0007648069986717534,
                    0.0007371939615237413,
                    0.0007628229532350772,
                    0.0007984735194900979,
                    0.0008823972647466152,
                    0.0007543854169912146,
                    0.0006996122271173698,
                    0.000707901191449633,
                    0.0007222501834910917,
                    0.0007222501834910917,
                    0.0007344170107819258,
                    0.0007038664823870548,
                    0.000707901191449633,
                    0.0008010959971926728,
                    0.0007117389820698661,
                    0.0007222501834910917,
                    0.0007543854169912146,
                    0.000739879843290821,
                    0.0007424807400872133,
                    0.000775830134237122,
                    0.0007886294295057705,
                    0.000756575367029786,
                    0.000707901191449633,
                    0.0007856016924179189,
                    0.0007628229532350772,
                    0.000707901191449633,
                    0.0008403213403028392,
                    0.0008315141493113173,
                    0.0007856016924179189,
                    0.0007038664823870548,
                    0.0007424807400872133,
                    0.0007344170107819258,
                    0.0007424807400872133,
                    0.0008061201672446473,
                    0.0007285620019694467,
                    0.000862660132990528,
                    0.0008436236121670379,
                    0.0009075922272815611,
                    0.0007188980775545643,
                    0.0007648069986717534,
                    0.0007188980775545643,
                    0.0008097114895892615,
                    0.00097318266801314,
                    0.0008988164245311134,
                    0.0010396168775041723,
                    0.0006996122271173698,
                    0.0007222501834910917,
                    0.0007371939615237413,
                    0.0008257970390974589,
                    0.0007344170107819258,
                    0.000775830134237122,
                    0.000790104924703147,
                    0.0007038664823870548,
                    0.0008665612875315605,
                    0.0007628229532350772,
                    0.0007543854169912146,
                    0.0007856016924179189,
                    0.0007117389820698661,
                    0.0007474489947688414,
                    0.0007971326427280022,
                    0.0007424807400872133,
                    0.0007886294295057705,
                    0.0007450021365527693,
                    0.0008108774007911806,
                    0.0008010959971926728,
                    0.0008709214691624322,
                    0.0007871286625912989,
                    0.000914885992910988,
                    0.0008460261180350092,
                    0.0007285620019694467,
                    0.0007371939615237413,
                    0.00077049588179134,
                    0.0007628229532350772,
                    0.0007628229532350772,
                    0.0010273520113207285,
                    0.0007840475339949776,
                    0.0008196998451384152,
                    0.0007450021365527693,
                    0.0007808534195231676,
                    0.0007222501834910917,
                    0.00077049588179134,
                    0.0008010959971926728,
                    0.0009538239608526057,
                    0.0008543456125972968,
                    0.0007984735194900979,
                    0.0007038664823870548,
                    0.0008639782028681313,
                    0.0007886294295057705,
                    0.0009297767074772294,
                    0.0007840475339949776,
                    0.0008108774007911806,
                    0.0007775371993361553,
                    0.0008796524192897147,
                    0.0007153991047459809,
                    0.0007315422161503907,
                    0.0007943883717514792,
                    0.0007153991047459809,
                    0.000848368747177434,
                    0.0008428089041938304,
                    0.000739879843290821,
                    0.0007723110316578907,
                    0.0007038664823870548,
                    0.0007856016924179189,
                    0.0007344170107819258,
                    0.00083947721339235,
                    0.0007344170107819258,
                    0.0008360220908734487,
                    0.0007117389820698661,
                    0.0007038664823870548,
                    0.0007957711536697821,
                    0.0007222501834910917,
                    0.0007117389820698661,
                    0.0008796524192897147,
                    0.0007984735194900979,
                    0.0007371939615237413,
                    0.0007667457755889644,
                    0.000707901191449633,
                    0.0010768267249679088,
                    0.0007153991047459809,
                    0.000707901191449633,
                    0.0007117389820698661,
                    0.0007222501834910917,
                    0.00077049588179134,
                    0.0007153991047459809,
                    0.0007188980775545643,
                    0.000707901191449633,
                    0.0008023788041270723,
                    0.0008048903645636925,
                    0.0007521367111824247,
                    0.00077049588179134,
                    0.0007285620019694467,
                    0.0007371939615237413,
                    0.000775830134237122,
                    0.0007723110316578907,
                    0.0007222501834910917,
                    0.0007915560301052948,
                    0.0008727315539699843,
                    0.000707901191449633,
                    0.0007808534195231676,
                    0.0007315422161503907,
                    0.000756575367029786,
                    0.0008342451444698504,
                    0.0008315141493113173,
                    0.0008818544163794956,
                    0.000894601358676579,
                    0.0007587097110935405,
                    0.0007997944318676975,
                    0.0008941218070925418,
                    0.0009784349119931759,
                    0.0008419870460571249,
                    0.0007971326427280022,
                    0.0007285620019694467,
                    0.000739879843290821,
                    0.0007038664823870548,
                    0.0008411579039739809,
                    0.0008452320943194212,
                    0.0007775371993361553,
                    0.0008153959776421795,
                    0.0008196998451384152,
                    0.0009108989356140062,
                    0.0007957711536697821,
                    0.0007315422161503907,
                    0.0007543854169912146,
                    0.0008491368544494541,
                    0.0008823972647466152,
                    0.00082177777478806,
                    0.0008386253774226817,
                    0.000873327480845971,
                    0.0008536188148808616,
                    0.0010327320313714397,
                    0.0010002510215493998,
                    0.0008813085437673632,
                    0.0008296475976725239,
                    0.0010770969790234904,
                    0.0009117089888608145,
                    0.0010531523034933465,
                    0.0012734898227163463,
                    0.000739879843290821,
                    0.0007315422161503907,
                    0.0008585934307351555,
                    0.0007153991047459809,
                    0.0008010959971926728,
                    0.000707901191449633,
                    0.0007474489947688414,
                    0.0007153991047459809,
                    0.0007628229532350772,
                    0.0006996122271173698,
                    0.0007188980775545643,
                    0.0007450021365527693,
                    0.0008671963664072909,
                    0.00087509362223593,
                    0.0007038664823870548,
                    0.0008498987588836301,
                    0.0007450021365527693,
                    0.0009678979609851741,
                    0.0010057200863302054,
                    0.0007344170107819258,
                    0.000775830134237122,
                    0.0009418892202898468,
                    0.0009418892202898468,
                    0.0007371939615237413,
                    0.0007222501834910917,
                    0.0009314535363931007,
                    0.0007285620019694467,
                    0.0008419870460571249,
                    0.0009842581502452988,
                    0.0007587097110935405,
                    0.00082177777478806,
                    0.0011963567387275852,
                    0.0009266880367053281,
                    0.0007775371993361553,
                    0.0007344170107819258,
                    0.0008901995963057439,
                    0.0008238094661669771,
                    0.000938214287624306,
                    0.0007038664823870548,
                    0.000756575367029786,
                    0.0007424807400872133,
                    0.000707901191449633,
                    0.000707901191449633,
                    0.000707901191449633,
                    0.0007628229532350772,
                    0.00077049588179134,
                    0.0007723110316578907,
                    0.0007824651446753689,
                    0.0007371939615237413,
                    0.0008142873326091811,
                    0.0008779677482475787,
                    0.0009963286691098056,
                    0.0009356903592379492,
                    0.0007285620019694467,
                    0.000775830134237122,
                    0.0009784349119931759,
                    0.0007188980775545643,
                    0.000707901191449633,
                    0.0007424807400872133,
                    0.00077049588179134,
                    0.0009216912123852562,
                    0.0008305855924060065,
                    0.000707901191449633,
                    0.0007371939615237413,
                    0.0007723110316578907,
                    0.0006996122271173698,
                    0.000790104924703147,
                    0.0007686414106741149,
                    0.0007498258190903108,
                    0.0008756752751509903,
                    0.0008036434144255346,
                    0.0008048903645636925,
                    0.0008564932207101027,
                    0.000884539109657584,
                    0.000775830134237122,
                    0.0008891942784423983,
                    0.0007188980775545643,
                    0.0007285620019694467,
                    0.0006996122271173698,
                    0.0008048903645636925,
                    0.000725467859127764,
                    0.000848368747177434,
                    0.0007943883717514792,
                    0.0009242200145062293,
                    0.000790104924703147,
                    0.0009669518167085753,
                    0.0007723110316578907,
                    0.0008709214691624322,
                    0.0009242200145062293,
                    0.000945729971770034,
                    0.0007038664823870548,
                    0.000707901191449633,
                    0.0006996122271173698,
                    0.0006996122271173698,
                    0.0007222501834910917,
                    0.0007153991047459809,
                    0.0006996122271173698,
                    0.000707901191449633,
                    0.000707901191449633,
                    0.0007543854169912146,
                    0.0008921800988790744,
                    0.0007038664823870548,
                    0.0007957711536697821,
                    0.0007498258190903108,
                    0.0007450021365527693,
                    0.0008142873326091811,
                    0.0007840475339949776,
                    0.0007723110316578907,
                    0.0007543854169912146,
                    0.0007153991047459809,
                    0.0007543854169912146,
                    0.0007521367111824247,
                    0.0007607913483065624,
                    0.0006996122271173698,
                    0.0007957711536697821,
                    0.0008048903645636925,
                    0.0007840475339949776,
                    0.0008120284169307253,
                    0.0007840475339949776,
                    0.0007740885799777205,
                    0.0008543456125972968,
                    0.000707901191449633,
                    0.0007628229532350772,
                    0.0007686414106741149,
                    0.0007607913483065624,
                    0.0007117389820698661,
                    0.0008606483983263686,
                    0.0007587097110935405,
                    0.0007371939615237413,
                    0.000852148289932982,
                    0.00082177777478806,
                    0.0007222501834910917,
                    0.000707901191449633,
                    0.0007117389820698661,
                    0.0008557827287274427,
                    0.000707901191449633,
                    0.0007740885799777205,
                    0.0007775371993361553,
                    0.0007038664823870548,
                    0.0008142873326091811,
                    0.0007628229532350772,
                    0.000725467859127764,
                    0.0008906984485903785,
                    0.0008703105080917081,
                    0.0007450021365527693,
                    0.0008186428353417644,
                    0.0007450021365527693,
                    0.0008756752751509903,
                    0.0007474489947688414,
                    0.0008296475976725239,
                    0.0007285620019694467,
                    0.0006996122271173698,
                    0.0008296475976725239,
                    0.0007371939615237413,
                    0.0007587097110935405,
                    0.0008048903645636925,
                    0.0007775371993361553,
                    0.0006996122271173698,
                    0.0007371939615237413,
                    0.0007285620019694467,
                    0.0007285620019694467,
                    0.0007740885799777205,
                    0.0008010959971926728,
                    0.0008906984485903785,
                    0.0007222501834910917,
                    0.0007344170107819258,
                    0.0007188980775545643,
                    0.0008419870460571249,
                    0.0008153959776421795,
                    0.0008238094661669771,
                    0.0007543854169912146,
                    0.0007686414106741149,
                    0.0009054691085699325,
                    0.0008978950260472236,
                    0.0007628229532350772,
                    0.0008196998451384152,
                    0.0007543854169912146,
                    0.0007997944318676975,
                    0.0008238094661669771,
                    0.0007424807400872133,
                    0.0007498258190903108,
                    0.0007038664823870548,
                    0.0008238094661669771,
                    0.0007628229532350772,
                    0.0007188980775545643,
                    0.0007371939615237413,
                    0.0009647920140176195,
                    0.0009564773259993585,
                    0.000775830134237122,
                    0.0009084291093384597,
                    0.000992450340387917,
                    0.0008997293997178377,
                    0.0008108774007911806,
                    0.0008315141493113173,
                    0.0009238625512862149,
                    0.0008543456125972968,
                    0.0009209570857119483,
                    0.0007285620019694467,
                    0.0007117389820698661,
                    0.000707901191449633,
                    0.0008120284169307253,
                    0.0008585934307351555,
                    0.0009907455459064747,
                    0.000790104924703147,
                    0.0009179667047993282,
                    0.0008491368544494541,
                    0.0009117089888608145,
                    0.0007521367111824247,
                    0.0008419870460571249,
                    0.0007686414106741149,
                    0.0007543854169912146,
                    0.0009280722115834494,
                    0.0007521367111824247,
                    0.000739879843290821,
                    0.0009092591096699355,
                    0.0008855927719068079,
                    0.0007723110316578907,
                    0.0007840475339949776,
                    0.0007474489947688414,
                    0.0008164912202295707,
                    0.000707901191449633,
                    0.000707901191449633,
                    0.000707901191449633,
                    0.0008386253774226817,
                    0.0008419870460571249,
                    0.0007886294295057705,
                    0.0007222501834910917,
                    0.0006996122271173698,
                    0.0008023788041270723,
                    0.0008606483983263686,
                    0.0007188980775545643,
                    0.0007957711536697821,
                    0.0007543854169912146,
                    0.0009415878637018219,
                    0.0009041733998896412,
                    0.0009252850002557766,
                    0.0007824651446753689,
                    0.0007997944318676975,
                    0.0008571984475600895,
                    0.0009010834195793293,
                    0.0008652784200744894,
                    0.0007667457755889644,
                    0.0008802075819965279,
                    0.000792983581504613,
                    0.0007285620019694467,
                    0.0007371939615237413,
                    0.000936959971940607,
                    0.0007371939615237413,
                    0.0008333437363832832,
                    0.0008085302704555593,
                    0.000725467859127764,
                    0.000707901191449633,
                    0.0007775371993361553,
                    0.000725467859127764,
                    0.0007371939615237413,
                    0.0008296475976725239,
                    0.0007997944318676975,
                    0.0008703105080917081,
                    0.0007521367111824247,
                    0.0008061201672446473,
                    0.0008564932207101027,
                    0.000739879843290821,
                    0.0008715285970534257,
                    0.0007521367111824247,
                    0.0007222501834910917,
                    0.0007222501834910917,
                    0.000739879843290821,
                    0.0007117389820698661,
                    0.0007871286625912989,
                    0.0008514043757906509,
                    0.0010072111735221923,
                    0.001242407744124211,
                    0.0007543854169912146,
                    0.0007824651446753689,
                    0.0007856016924179189,
                    0.0010389963941060086,
                    0.0011003483920105973,
                    0.0008419870460571249,
                    0.0007117389820698661,
                    0.0007943883717514792,
                    0.0010756485163444368,
                    0.001158951674962673,
                    0.001051599771452861,
                    0.0011761425839441981,
                    0.0007285620019694467,
                    0.001056625499351576,
                    0.0008153959776421795,
                    0.000725467859127764,
                    0.000894601358676579,
                    0.0009926381444627687,
                    0.0008010959971926728,
                    0.000725467859127764,
                    0.0007153991047459809,
                    0.0007915560301052948,
                    0.0007285620019694467,
                    0.0007315422161503907,
                    0.0008715285970534257,
                    0.0008678272868525024,
                    0.0007840475339949776,
                    0.000707901191449633,
                    0.0008061201672446473,
                    0.0007587097110935405,
                    0.0008678272868525024,
                    0.0008599683091650024,
                    0.0007648069986717534,
                    0.0008142873326091811,
                    0.0007450021365527693,
                    0.000707901191449633,
                    0.0008061201672446473,
                    0.0007792111862037908,
                    0.0007038664823870548,
                    0.0008452320943194212,
                    0.0009314535363931007,
                    0.0008840080128450803,
                    0.0008305855924060065,
                    0.0007971326427280022,
                    0.0006996122271173698,
                    0.0007824651446753689,
                    0.0008175733978909195,
                    0.0009344050502611774,
                    0.0007871286625912989,
                    0.0010388718962907565,
                    0.0009041733998896412,
                    0.0009899793042693285,
                    0.0008207447282824725,
                    0.0007153991047459809,
                    0.0007628229532350772,
                    0.0007628229532350772,
                    0.0007498258190903108,
                    0.000707901191449633,
                    0.000844431300045151,
                    0.000848368747177434,
                    0.0007943883717514792,
                    0.0007450021365527693,
                    0.000894601358676579,
                    0.001010615055446723,
                    0.0007450021365527693,
                    0.0007775371993361553,
                    0.0007667457755889644,
                    0.0007628229532350772,
                    0.0007153991047459809,
                    0.000756575367029786,
                    0.0007038664823870548,
                    0.0008010959971926728,
                    0.0007740885799777205,
                    0.0007450021365527693,
                    0.0007474489947688414,
                    0.0007840475339949776,
                    0.0008324334666467474,
                    0.0009067483419225204,
                    0.0008010959971926728,
                    0.0007222501834910917,
                    0.0007474489947688414,
                    0.0007222501834910917,
                    0.0007915560301052948,
                    0.0008960262910922675,
                    0.0009524719554912965,
                    0.0007344170107819258,
                    0.0007117389820698661,
                    0.0007686414106741149,
                    0.0007424807400872133,
                    0.0007474489947688414,
                    0.0008010959971926728,
                    0.0006996122271173698,
                    0.0007521367111824247,
                    0.0007344170107819258,
                    0.0007153991047459809,
                    0.0007344170107819258,
                    0.0007371939615237413,
                    0.0007587097110935405,
                    0.0007315422161503907,
                    0.0007474489947688414,
                    0.000852148289932982,
                    0.0008061201672446473,
                    0.0007285620019694467,
                    0.000707901191449633,
                    0.0008351378710846491,
                    0.0007450021365527693,
                    0.0007450021365527693,
                    0.0008599683091650024,
                    0.0007587097110935405,
                    0.0007450021365527693,
                    0.0007543854169912146,
                    0.0009266880367053281,
                    0.0007628229532350772,
                    0.0008036434144255346,
                    0.0010143829239682486,
                    0.000775830134237122,
                    0.0008120284169307253,
                    0.0007450021365527693,
                    0.0007886294295057705,
                    0.0007667457755889644,
                    0.0007521367111824247,
                    0.0007915560301052948,
                    0.0009156649554160954,
                    0.000960084180437782,
                    0.0008785325412644627,
                    0.0009474563288367995,
                    0.0007871286625912989,
                    0.0008153959776421795,
                    0.0008599683091650024,
                    0.0007474489947688414,
                    0.0007607913483065624,
                    0.0008153959776421795,
                    0.0007628229532350772,
                    0.0007117389820698661,
                    0.0007775371993361553,
                    0.0007117389820698661,
                    0.0007607913483065624,
                    0.000707901191449633,
                    0.0009718288100713425,
                    0.0007222501834910917,
                    0.000945729971770034,
                    0.0008881786258385392,
                    0.0008023788041270723,
                    0.0008779677482475787,
                    0.000790104924703147,
                    0.0009468840188508448,
                    0.001176183345093953,
                    0.0007521367111824247,
                    0.0007344170107819258,
                    0.0009129120529610457,
                    0.0008207447282824725,
                    0.0007648069986717534,
                    0.0008351378710846491,
                    0.0009033002175042406,
                    0.0007957711536697821,
                    0.0007607913483065624,
                    0.000884539109657584,
                    0.0007371939615237413,
                    0.0007886294295057705,
                    0.0007740885799777205,
                    0.0007344170107819258,
                    0.00077049588179134,
                    0.0007222501834910917,
                    0.0007628229532350772,
                    0.000725467859127764,
                    0.0008142873326091811,
                    0.0008802075819965279,
                    0.0007775371993361553,
                    0.0010711946223657632,
                    0.0008175733978909195,
                    0.0007667457755889644,
                    0.0007344170107819258,
                    0.000707901191449633,
                    0.0007344170107819258,
                    0.0007188980775545643,
                    0.0007344170107819258,
                    0.0008543456125972968,
                    0.000756575367029786,
                    0.0008267749036165641,
                    0.0007153991047459809,
                    0.0008196998451384152,
                    0.000707901191449633,
                    0.0007997944318676975,
                    0.0009551589354706691,
                    0.0009480255443064786,
                    0.0007543854169912146,
                    0.0007450021365527693,
                    0.0008108774007911806,
                    0.0007117389820698661,
                    0.000852886404755163,
                    0.0007775371993361553,
                    0.000725467859127764,
                    0.0007371939615237413,
                    0.0008342451444698504,
                    0.0008085302704555593,
                    0.0007222501834910917,
                    0.0007450021365527693,
                    0.0007686414106741149,
                    0.0007667457755889644,
                    0.0007871286625912989,
                    0.0008665612875315605,
                    0.0007543854169912146,
                    0.0008315141493113173,
                    0.0007153991047459809,
                    0.0008296475976725239,
                    0.0008840080128450803,
                    0.0008452320943194212,
                    0.0007648069986717534,
                    0.0009033002175042406,
                    0.0009235038389194667,
                    0.0008983567884461349,
                    0.0009334305186014155,
                    0.0008010959971926728,
                    0.0007792111862037908,
                    0.0007038664823870548,
                    0.0010407254184219698,
                    0.0007222501834910917,
                    0.0007808534195231676,
                    0.0007344170107819258,
                    0.000707901191449633,
                    0.0007984735194900979,
                    0.0008333437363832832,
                    0.0008085302704555593,
                    0.000707901191449633,
                    0.0008333437363832832,
                    0.0008324334666467474,
                    0.0007222501834910917,
                    0.0008108774007911806,
                    0.0007628229532350772,
                    0.0008186428353417644,
                    0.0007915560301052948,
                    0.0008227992642145061,
                    0.0007686414106741149,
                    0.0007723110316578907,
                    0.0008696956623884986,
                    0.0008571984475600895,
                    0.0007723110316578907,
                    0.00077049588179134,
                    0.0007344170107819258,
                    0.0007871286625912989,
                    0.0008599683091650024,
                    0.0006996122271173698,
                    0.000844431300045151,
                    0.000862660132990528,
                    0.0008543456125972968,
                    0.000707901191449633,
                    0.0007792111862037908,
                    0.0007686414106741149,
                    0.0007222501834910917,
                    0.0007153991047459809,
                    0.0007997944318676975,
                    0.0007498258190903108,
                    0.000707901191449633,
                    0.0007285620019694467,
                    0.0007344170107819258,
                    0.0008790940852091659,
                    0.00077049588179134,
                    0.0008506545652878035,
                    0.0006996122271173698,
                    0.0008142873326091811,
                    0.0008818544163794956,
                    0.0008926690998708178,
                    0.000739879843290821,
                    0.0007188980775545643,
                    0.000707901191449633,
                    0.0008010959971926728,
                    0.000848368747177434,
                    0.0007188980775545643,
                    0.0007498258190903108,
                    0.0007521367111824247,
                    0.0007450021365527693,
                    0.0009324467430064809,
                    0.000852886404755163,
                    0.0007188980775545643,
                    0.0007521367111824247,
                    0.0007117389820698661,
                    0.0006996122271173698,
                    0.0006996122271173698,
                    0.0008779677482475787,
                    0.0006996122271173698,
                    0.0007723110316578907,
                    0.0008992739548673124,
                    0.0007315422161503907,
                    0.0007915560301052948,
                    0.0008796524192897147,
                    0.0007450021365527693,
                    0.0008896982153276122,
                    0.0007498258190903108,
                    0.0008773996662147713,
                    0.000756575367029786,
                    0.0007450021365527693,
                    0.0007521367111824247,
                    0.0008315141493113173,
                    0.0007740885799777205,
                    0.0006996122271173698,
                    0.0007543854169912146,
                    0.0007038664823870548,
                    0.0007775371993361553,
                    0.000725467859127764,
                    0.0009468840188508448,
                    0.0007344170107819258,
                    0.00077049588179134,
                    0.0007424807400872133,
                    0.000725467859127764,
                    0.0007117389820698661,
                    0.0007222501834910917,
                    0.0007188980775545643,
                    0.0008475943294851806,
                    0.0007648069986717534,
                    0.0007315422161503907,
                    0.0007824651446753689,
                    0.0008671963664072909,
                    0.0008342451444698504,
                    0.0007222501834910917,
                    0.0008756752751509903,
                    0.000945729971770034,
                    0.0008315141493113173,
                    0.0009764950067022708,
                    0.0009144942620709229,
                    0.0008131649341186346,
                    0.00077049588179134,
                    0.0009497149717371793,
                    0.0006996122271173698,
                    0.0007686414106741149,
                    0.000790104924703147,
                    0.0007543854169912146,
                    0.000707901191449633,
                    0.000790104924703147,
                    0.0010867742943367388,
                    0.0009353705194630898,
                    0.000707901191449633,
                    0.0007498258190903108,
                    0.00087509362223593,
                    0.0008305855924060065,
                    0.0007188980775545643,
                    0.0010157639973869055,
                    0.00102328665014859,
                    0.0008108774007911806,
                    0.0007424807400872133,
                    0.0008153959776421795,
                    0.0006996122271173698,
                    0.0008703105080917081,
                    0.0007824651446753689,
                    0.0008186428353417644,
                    0.0007344170107819258,
                    0.0009205880381038492,
                    0.0007450021365527693,
                    0.0007222501834910917,
                    0.0007521367111824247,
                    0.0009385255217059981,
                    0.0008613236849233445,
                    0.0008881786258385392,
                    0.0007038664823870548,
                    0.0006996122271173698,
                    0.0008829371240239562,
                    0.0009028607614197129,
                    0.0010990045752715925,
                    0.0009227826296360949,
                    0.0008796524192897147,
                    0.0009133099232958531,
                    0.0008703105080917081,
                    0.0007723110316578907,
                    0.0007424807400872133,
                    0.0007344170107819258,
                    0.0007543854169912146,
                    0.0007450021365527693,
                    0.000981385399789449,
                    0.0007222501834910917,
                    0.0007285620019694467,
                    0.0008131649341186346,
                    0.0007723110316578907,
                    0.0008073333127943431,
                    0.0008727315539699843,
                    0.0009238625512862149,
                    0.0007824651446753689,
                    0.0007498258190903108,
                    0.0007344170107819258,
                    0.0007543854169912146,
                    0.0008403213403028392,
                    0.000725467859127764,
                    0.0008506545652878035,
                    0.0009421897115998028,
                    0.0008419870460571249,
                    0.0008248086407673537,
                    0.0007450021365527693,
                    0.0007285620019694467,
                    0.000725467859127764,
                    0.0007285620019694467,
                    0.0008861154011872349,
                    0.0007775371993361553,
                    0.000707901191449633,
                    0.0009209570857119483,
                    0.0007543854169912146,
                    0.0008360220908734487,
                    0.0007886294295057705,
                    0.001077546050744713,
                    0.0008978950260472236,
                    0.0009516523847676476,
                    0.0008613236849233445,
                    0.0009071711677412093,
                    0.0009360092180743845,
                    0.0007740885799777205,
                    0.0009628349657458982,
                    0.0008108774007911806,
                    0.0007222501834910917,
                    0.0007285620019694467,
                    0.0008779677482475787,
                    0.0008186428353417644,
                    0.0008871524116114821,
                    0.0007117389820698661,
                    0.0008036434144255346,
                    0.0008796524192897147,
                    0.0008351378710846491,
                    0.0007038664823870548,
                    0.000707901191449633,
                    0.0008296475976725239,
                    0.0011016041315157093,
                    0.0007424807400872133,
                    0.0008678272868525024,
                    0.0009445631095163651,
                    0.0008850673519457022,
                    0.000852886404755163,
                    0.0007648069986717534,
                    0.0009084291093384597,
                    0.0008175733978909195,
                    0.001019070515849762,
                    0.0008941218070925418,
                    0.0008768282544678947,
                    0.00097068748314857,
                    0.0008196998451384152,
                    0.0008315141493113173,
                    0.0010436306305130509,
                    0.0008756752751509903,
                    0.000852148289932982,
                    0.0009245762377272773,
                    0.0008386253774226817,
                    0.000707901191449633,
                    0.0008813085437673632,
                    0.0007285620019694467,
                    0.0008779677482475787,
                    0.0007856016924179189,
                    0.0007607913483065624,
                    0.0007153991047459809,
                    0.0007871286625912989,
                    0.0007808534195231676,
                    0.0007285620019694467,
                    0.0009625877996595759,
                    0.001117053363323454,
                    0.0007856016924179189,
                    0.0009697656458180903,
                    0.0010533724210987402,
                    0.000707901191449633,
                    0.0010538114183607338,
                    0.0007521367111824247,
                    0.0007222501834910917,
                    0.0009588099957784695,
                    0.0007628229532350772,
                    0.0007498258190903108,
                    0.0010156113771199707,
                    0.0007607913483065624,
                    0.0007943883717514792,
                    0.0008585934307351555,
                    0.000756575367029786,
                    0.0009488736419365347,
                    0.0007117389820698661,
                    0.0010817736386483907,
                    0.0008097114895892615,
                    0.0008585934307351555,
                    0.0008175733978909195,
                    0.001107276524937205,
                    0.0008739197702957246,
                    0.000844431300045151,
                    0.0007153991047459809,
                    0.0009572605791305603,
                    0.000934727871463533,
                    0.0008333437363832832,
                    0.0007607913483065624,
                    0.0008386253774226817,
                    0.0007117389820698661,
                    0.0007856016924179189,
                    0.0007285620019694467,
                    0.0007117389820698661,
                    0.000756575367029786,
                    0.0007607913483065624,
                    0.0007315422161503907,
                    0.0008120284169307253,
                    0.0007871286625912989,
                    0.0007871286625912989,
                    0.0008342451444698504,
                    0.0007222501834910917,
                    0.0008773996662147713,
                    0.000707901191449633,
                    0.0007222501834910917,
                    0.000739879843290821,
                    0.0007222501834910917,
                    0.0009385255217059981,
                    0.0008196998451384152,
                    0.0006996122271173698,
                    0.000725467859127764,
                    0.0007886294295057705,
                    0.0008564932207101027,
                    0.0008196998451384152,
                    0.0007450021365527693,
                    0.0007450021365527693,
                    0.0009227826296360949,
                    0.000790104924703147,
                    0.0007222501834910917,
                    0.0008773996662147713,
                    0.0008491368544494541,
                    0.0006996122271173698,
                    0.0007153991047459809,
                    0.0007648069986717534,
                    0.000707901191449633,
                    0.0007371939615237413,
                    0.0008460261180350092,
                    0.0009179667047993282,
                    0.0007117389820698661,
                    0.0008227992642145061,
                    0.0007222501834910917,
                    0.0007667457755889644,
                    0.0009092591096699355,
                    0.000725467859127764,
                    0.000792983581504613,
                    0.000725467859127764,
                    0.000725467859127764,
                    0.0007222501834910917,
                    0.0008333437363832832,
                    0.0007871286625912989,
                    0.000725467859127764,
                    0.0007474489947688414,
                    0.000707901191449633,
                    0.0007856016924179189,
                    0.0007628229532350772,
                    0.0008248086407673537,
                    0.0007450021365527693,
                    0.0007957711536697821,
                    0.0007856016924179189,
                    0.0007628229532350772,
                    0.0008829371240239562,
                    0.0008715285970534257,
                    0.0007543854169912146,
                    0.001014691294145247,
                    0.0009683679293479531,
                    0.0008419870460571249,
                    0.0009850652544750214,
                    0.0007543854169912146,
                    0.000739879843290821,
                    0.0008010959971926728,
                    0.0008796524192897147,
                    0.0007474489947688414,
                    0.000790104924703147,
                    0.0008592833447588391,
                    0.0007450021365527693,
                    0.0009113047722934442,
                    0.0008678272868525024,
                    0.0007474489947688414,
                    0.0008108774007911806,
                    0.0008690768795383933,
                    0.0007915560301052948,
                    0.0007775371993361553,
                    0.0008386253774226817,
                    0.0007038664823870548,
                    0.0007957711536697821,
                    0.000873327480845971,
                    0.0009409825335344999,
                    0.0009337563805169148,
                    0.000707901191449633,
                    0.0007222501834910917,
                    0.0007188980775545643,
                    0.0007840475339949776,
                    0.0007450021365527693,
                    0.0007686414106741149,
                    0.0007667457755889644,
                    0.0008267749036165641,
                    0.0007543854169912146,
                    0.0007222501834910917,
                    0.0007543854169912146,
                    0.000707901191449633,
                    0.0007222501834910917,
                    0.0009187225482222123,
                    0.000985866450594074,
                    0.0008606483983263686,
                    0.0008108774007911806,
                    0.000848368747177434,
                    0.0007824651446753689,
                    0.0007856016924179189,
                    0.0007474489947688414,
                    0.0007957711536697821,
                    0.0007498258190903108,
                    0.0007628229532350772,
                    0.0007038664823870548,
                    0.0007450021365527693,
                    0.0007628229532350772,
                    0.0007775371993361553,
                    0.0007740885799777205,
                    0.0007450021365527693,
                    0.0007344170107819258,
                    0.0007424807400872133,
                    0.000707901191449633,
                    0.0006996122271173698,
                    0.000862660132990528,
                    0.0008305855924060065,
                    0.0007856016924179189,
                    0.0008652784200744894,
                    0.0009080115360480717,
                    0.0008727315539699843,
                    0.0009100823466604678,
                    0.0007667457755889644,
                    0.0007607913483065624,
                    0.0010569458995034204,
                    0.0007775371993361553,
                    0.0007871286625912989,
                    0.0010574779649998396,
                    0.0008403213403028392,
                    0.0008790940852091659,
                    0.0009491548315436732,
                    0.0007038664823870548,
                    0.0007222501834910917,
                    0.000707901191449633,
                    0.0010139187808996346,
                    0.0010666658111949862,
                    0.0009564773259993585,
                    0.0008571984475600895,
                    0.001124660609272341,
                    0.0009117089888608145,
                    0.0007886294295057705,
                    0.0006996122271173698,
                    0.0007628229532350772,
                    0.0008238094661669771,
                    0.0007775371993361553,
                    0.0012712196741009262,
                    0.000707901191449633,
                    0.0008659219919358867,
                    0.0008578984909754909,
                    0.0009856667004604456,
                    0.0010597908621445952,
                    0.0010162206239054483,
                    0.0008108774007911806,
                    0.000707901191449633,
                    0.00077049588179134,
                    0.0009010834195793293,
                    0.0009595763325683091,
                    0.0007587097110935405,
                    0.0007344170107819258,
                    0.0007222501834910917,
                    0.0007543854169912146,
                    0.000790104924703147,
                    0.0008564932207101027,
                    0.000792983581504613,
                    0.0007587097110935405,
                    0.0007587097110935405,
                    0.0010021614464210827,
                    0.0006996122271173698,
                    0.000852148289932982,
                    0.0008277424685549543,
                    0.0007686414106741149,
                    0.0007607913483065624,
                    0.00077049588179134,
                    0.0008543456125972968,
                    0.0007840475339949776,
                    0.0007648069986717534,
                    0.0007474489947688414,
                    0.0007038664823870548,
                    0.0008599683091650024,
                    0.0008762534715351133,
                    0.0007543854169912146,
                    0.0007824651446753689,
                    0.0008428089041938304,
                    0.0008896982153276122,
                    0.001219780218134434
                  ],
                  "y0": " ",
                  "yaxis": "y"
                }
              ],
              "layout": {
                "boxmode": "group",
                "legend": {
                  "tracegroupgap": 0
                },
                "margin": {
                  "t": 60
                },
                "template": {
                  "data": {
                    "bar": [
                      {
                        "error_x": {
                          "color": "#2a3f5f"
                        },
                        "error_y": {
                          "color": "#2a3f5f"
                        },
                        "marker": {
                          "line": {
                            "color": "#E5ECF6",
                            "width": 0.5
                          },
                          "pattern": {
                            "fillmode": "overlay",
                            "size": 10,
                            "solidity": 0.2
                          }
                        },
                        "type": "bar"
                      }
                    ],
                    "barpolar": [
                      {
                        "marker": {
                          "line": {
                            "color": "#E5ECF6",
                            "width": 0.5
                          },
                          "pattern": {
                            "fillmode": "overlay",
                            "size": 10,
                            "solidity": 0.2
                          }
                        },
                        "type": "barpolar"
                      }
                    ],
                    "carpet": [
                      {
                        "aaxis": {
                          "endlinecolor": "#2a3f5f",
                          "gridcolor": "white",
                          "linecolor": "white",
                          "minorgridcolor": "white",
                          "startlinecolor": "#2a3f5f"
                        },
                        "baxis": {
                          "endlinecolor": "#2a3f5f",
                          "gridcolor": "white",
                          "linecolor": "white",
                          "minorgridcolor": "white",
                          "startlinecolor": "#2a3f5f"
                        },
                        "type": "carpet"
                      }
                    ],
                    "choropleth": [
                      {
                        "colorbar": {
                          "outlinewidth": 0,
                          "ticks": ""
                        },
                        "type": "choropleth"
                      }
                    ],
                    "contour": [
                      {
                        "colorbar": {
                          "outlinewidth": 0,
                          "ticks": ""
                        },
                        "colorscale": [
                          [
                            0,
                            "#0d0887"
                          ],
                          [
                            0.1111111111111111,
                            "#46039f"
                          ],
                          [
                            0.2222222222222222,
                            "#7201a8"
                          ],
                          [
                            0.3333333333333333,
                            "#9c179e"
                          ],
                          [
                            0.4444444444444444,
                            "#bd3786"
                          ],
                          [
                            0.5555555555555556,
                            "#d8576b"
                          ],
                          [
                            0.6666666666666666,
                            "#ed7953"
                          ],
                          [
                            0.7777777777777778,
                            "#fb9f3a"
                          ],
                          [
                            0.8888888888888888,
                            "#fdca26"
                          ],
                          [
                            1,
                            "#f0f921"
                          ]
                        ],
                        "type": "contour"
                      }
                    ],
                    "contourcarpet": [
                      {
                        "colorbar": {
                          "outlinewidth": 0,
                          "ticks": ""
                        },
                        "type": "contourcarpet"
                      }
                    ],
                    "heatmap": [
                      {
                        "colorbar": {
                          "outlinewidth": 0,
                          "ticks": ""
                        },
                        "colorscale": [
                          [
                            0,
                            "#0d0887"
                          ],
                          [
                            0.1111111111111111,
                            "#46039f"
                          ],
                          [
                            0.2222222222222222,
                            "#7201a8"
                          ],
                          [
                            0.3333333333333333,
                            "#9c179e"
                          ],
                          [
                            0.4444444444444444,
                            "#bd3786"
                          ],
                          [
                            0.5555555555555556,
                            "#d8576b"
                          ],
                          [
                            0.6666666666666666,
                            "#ed7953"
                          ],
                          [
                            0.7777777777777778,
                            "#fb9f3a"
                          ],
                          [
                            0.8888888888888888,
                            "#fdca26"
                          ],
                          [
                            1,
                            "#f0f921"
                          ]
                        ],
                        "type": "heatmap"
                      }
                    ],
                    "heatmapgl": [
                      {
                        "colorbar": {
                          "outlinewidth": 0,
                          "ticks": ""
                        },
                        "colorscale": [
                          [
                            0,
                            "#0d0887"
                          ],
                          [
                            0.1111111111111111,
                            "#46039f"
                          ],
                          [
                            0.2222222222222222,
                            "#7201a8"
                          ],
                          [
                            0.3333333333333333,
                            "#9c179e"
                          ],
                          [
                            0.4444444444444444,
                            "#bd3786"
                          ],
                          [
                            0.5555555555555556,
                            "#d8576b"
                          ],
                          [
                            0.6666666666666666,
                            "#ed7953"
                          ],
                          [
                            0.7777777777777778,
                            "#fb9f3a"
                          ],
                          [
                            0.8888888888888888,
                            "#fdca26"
                          ],
                          [
                            1,
                            "#f0f921"
                          ]
                        ],
                        "type": "heatmapgl"
                      }
                    ],
                    "histogram": [
                      {
                        "marker": {
                          "pattern": {
                            "fillmode": "overlay",
                            "size": 10,
                            "solidity": 0.2
                          }
                        },
                        "type": "histogram"
                      }
                    ],
                    "histogram2d": [
                      {
                        "colorbar": {
                          "outlinewidth": 0,
                          "ticks": ""
                        },
                        "colorscale": [
                          [
                            0,
                            "#0d0887"
                          ],
                          [
                            0.1111111111111111,
                            "#46039f"
                          ],
                          [
                            0.2222222222222222,
                            "#7201a8"
                          ],
                          [
                            0.3333333333333333,
                            "#9c179e"
                          ],
                          [
                            0.4444444444444444,
                            "#bd3786"
                          ],
                          [
                            0.5555555555555556,
                            "#d8576b"
                          ],
                          [
                            0.6666666666666666,
                            "#ed7953"
                          ],
                          [
                            0.7777777777777778,
                            "#fb9f3a"
                          ],
                          [
                            0.8888888888888888,
                            "#fdca26"
                          ],
                          [
                            1,
                            "#f0f921"
                          ]
                        ],
                        "type": "histogram2d"
                      }
                    ],
                    "histogram2dcontour": [
                      {
                        "colorbar": {
                          "outlinewidth": 0,
                          "ticks": ""
                        },
                        "colorscale": [
                          [
                            0,
                            "#0d0887"
                          ],
                          [
                            0.1111111111111111,
                            "#46039f"
                          ],
                          [
                            0.2222222222222222,
                            "#7201a8"
                          ],
                          [
                            0.3333333333333333,
                            "#9c179e"
                          ],
                          [
                            0.4444444444444444,
                            "#bd3786"
                          ],
                          [
                            0.5555555555555556,
                            "#d8576b"
                          ],
                          [
                            0.6666666666666666,
                            "#ed7953"
                          ],
                          [
                            0.7777777777777778,
                            "#fb9f3a"
                          ],
                          [
                            0.8888888888888888,
                            "#fdca26"
                          ],
                          [
                            1,
                            "#f0f921"
                          ]
                        ],
                        "type": "histogram2dcontour"
                      }
                    ],
                    "mesh3d": [
                      {
                        "colorbar": {
                          "outlinewidth": 0,
                          "ticks": ""
                        },
                        "type": "mesh3d"
                      }
                    ],
                    "parcoords": [
                      {
                        "line": {
                          "colorbar": {
                            "outlinewidth": 0,
                            "ticks": ""
                          }
                        },
                        "type": "parcoords"
                      }
                    ],
                    "pie": [
                      {
                        "automargin": true,
                        "type": "pie"
                      }
                    ],
                    "scatter": [
                      {
                        "marker": {
                          "colorbar": {
                            "outlinewidth": 0,
                            "ticks": ""
                          }
                        },
                        "type": "scatter"
                      }
                    ],
                    "scatter3d": [
                      {
                        "line": {
                          "colorbar": {
                            "outlinewidth": 0,
                            "ticks": ""
                          }
                        },
                        "marker": {
                          "colorbar": {
                            "outlinewidth": 0,
                            "ticks": ""
                          }
                        },
                        "type": "scatter3d"
                      }
                    ],
                    "scattercarpet": [
                      {
                        "marker": {
                          "colorbar": {
                            "outlinewidth": 0,
                            "ticks": ""
                          }
                        },
                        "type": "scattercarpet"
                      }
                    ],
                    "scattergeo": [
                      {
                        "marker": {
                          "colorbar": {
                            "outlinewidth": 0,
                            "ticks": ""
                          }
                        },
                        "type": "scattergeo"
                      }
                    ],
                    "scattergl": [
                      {
                        "marker": {
                          "colorbar": {
                            "outlinewidth": 0,
                            "ticks": ""
                          }
                        },
                        "type": "scattergl"
                      }
                    ],
                    "scattermapbox": [
                      {
                        "marker": {
                          "colorbar": {
                            "outlinewidth": 0,
                            "ticks": ""
                          }
                        },
                        "type": "scattermapbox"
                      }
                    ],
                    "scatterpolar": [
                      {
                        "marker": {
                          "colorbar": {
                            "outlinewidth": 0,
                            "ticks": ""
                          }
                        },
                        "type": "scatterpolar"
                      }
                    ],
                    "scatterpolargl": [
                      {
                        "marker": {
                          "colorbar": {
                            "outlinewidth": 0,
                            "ticks": ""
                          }
                        },
                        "type": "scatterpolargl"
                      }
                    ],
                    "scatterternary": [
                      {
                        "marker": {
                          "colorbar": {
                            "outlinewidth": 0,
                            "ticks": ""
                          }
                        },
                        "type": "scatterternary"
                      }
                    ],
                    "surface": [
                      {
                        "colorbar": {
                          "outlinewidth": 0,
                          "ticks": ""
                        },
                        "colorscale": [
                          [
                            0,
                            "#0d0887"
                          ],
                          [
                            0.1111111111111111,
                            "#46039f"
                          ],
                          [
                            0.2222222222222222,
                            "#7201a8"
                          ],
                          [
                            0.3333333333333333,
                            "#9c179e"
                          ],
                          [
                            0.4444444444444444,
                            "#bd3786"
                          ],
                          [
                            0.5555555555555556,
                            "#d8576b"
                          ],
                          [
                            0.6666666666666666,
                            "#ed7953"
                          ],
                          [
                            0.7777777777777778,
                            "#fb9f3a"
                          ],
                          [
                            0.8888888888888888,
                            "#fdca26"
                          ],
                          [
                            1,
                            "#f0f921"
                          ]
                        ],
                        "type": "surface"
                      }
                    ],
                    "table": [
                      {
                        "cells": {
                          "fill": {
                            "color": "#EBF0F8"
                          },
                          "line": {
                            "color": "white"
                          }
                        },
                        "header": {
                          "fill": {
                            "color": "#C8D4E3"
                          },
                          "line": {
                            "color": "white"
                          }
                        },
                        "type": "table"
                      }
                    ]
                  },
                  "layout": {
                    "annotationdefaults": {
                      "arrowcolor": "#2a3f5f",
                      "arrowhead": 0,
                      "arrowwidth": 1
                    },
                    "autotypenumbers": "strict",
                    "coloraxis": {
                      "colorbar": {
                        "outlinewidth": 0,
                        "ticks": ""
                      }
                    },
                    "colorscale": {
                      "diverging": [
                        [
                          0,
                          "#8e0152"
                        ],
                        [
                          0.1,
                          "#c51b7d"
                        ],
                        [
                          0.2,
                          "#de77ae"
                        ],
                        [
                          0.3,
                          "#f1b6da"
                        ],
                        [
                          0.4,
                          "#fde0ef"
                        ],
                        [
                          0.5,
                          "#f7f7f7"
                        ],
                        [
                          0.6,
                          "#e6f5d0"
                        ],
                        [
                          0.7,
                          "#b8e186"
                        ],
                        [
                          0.8,
                          "#7fbc41"
                        ],
                        [
                          0.9,
                          "#4d9221"
                        ],
                        [
                          1,
                          "#276419"
                        ]
                      ],
                      "sequential": [
                        [
                          0,
                          "#0d0887"
                        ],
                        [
                          0.1111111111111111,
                          "#46039f"
                        ],
                        [
                          0.2222222222222222,
                          "#7201a8"
                        ],
                        [
                          0.3333333333333333,
                          "#9c179e"
                        ],
                        [
                          0.4444444444444444,
                          "#bd3786"
                        ],
                        [
                          0.5555555555555556,
                          "#d8576b"
                        ],
                        [
                          0.6666666666666666,
                          "#ed7953"
                        ],
                        [
                          0.7777777777777778,
                          "#fb9f3a"
                        ],
                        [
                          0.8888888888888888,
                          "#fdca26"
                        ],
                        [
                          1,
                          "#f0f921"
                        ]
                      ],
                      "sequentialminus": [
                        [
                          0,
                          "#0d0887"
                        ],
                        [
                          0.1111111111111111,
                          "#46039f"
                        ],
                        [
                          0.2222222222222222,
                          "#7201a8"
                        ],
                        [
                          0.3333333333333333,
                          "#9c179e"
                        ],
                        [
                          0.4444444444444444,
                          "#bd3786"
                        ],
                        [
                          0.5555555555555556,
                          "#d8576b"
                        ],
                        [
                          0.6666666666666666,
                          "#ed7953"
                        ],
                        [
                          0.7777777777777778,
                          "#fb9f3a"
                        ],
                        [
                          0.8888888888888888,
                          "#fdca26"
                        ],
                        [
                          1,
                          "#f0f921"
                        ]
                      ]
                    },
                    "colorway": [
                      "#636efa",
                      "#EF553B",
                      "#00cc96",
                      "#ab63fa",
                      "#FFA15A",
                      "#19d3f3",
                      "#FF6692",
                      "#B6E880",
                      "#FF97FF",
                      "#FECB52"
                    ],
                    "font": {
                      "color": "#2a3f5f"
                    },
                    "geo": {
                      "bgcolor": "white",
                      "lakecolor": "white",
                      "landcolor": "#E5ECF6",
                      "showlakes": true,
                      "showland": true,
                      "subunitcolor": "white"
                    },
                    "hoverlabel": {
                      "align": "left"
                    },
                    "hovermode": "closest",
                    "mapbox": {
                      "style": "light"
                    },
                    "paper_bgcolor": "white",
                    "plot_bgcolor": "#E5ECF6",
                    "polar": {
                      "angularaxis": {
                        "gridcolor": "white",
                        "linecolor": "white",
                        "ticks": ""
                      },
                      "bgcolor": "#E5ECF6",
                      "radialaxis": {
                        "gridcolor": "white",
                        "linecolor": "white",
                        "ticks": ""
                      }
                    },
                    "scene": {
                      "xaxis": {
                        "backgroundcolor": "#E5ECF6",
                        "gridcolor": "white",
                        "gridwidth": 2,
                        "linecolor": "white",
                        "showbackground": true,
                        "ticks": "",
                        "zerolinecolor": "white"
                      },
                      "yaxis": {
                        "backgroundcolor": "#E5ECF6",
                        "gridcolor": "white",
                        "gridwidth": 2,
                        "linecolor": "white",
                        "showbackground": true,
                        "ticks": "",
                        "zerolinecolor": "white"
                      },
                      "zaxis": {
                        "backgroundcolor": "#E5ECF6",
                        "gridcolor": "white",
                        "gridwidth": 2,
                        "linecolor": "white",
                        "showbackground": true,
                        "ticks": "",
                        "zerolinecolor": "white"
                      }
                    },
                    "shapedefaults": {
                      "line": {
                        "color": "#2a3f5f"
                      }
                    },
                    "ternary": {
                      "aaxis": {
                        "gridcolor": "white",
                        "linecolor": "white",
                        "ticks": ""
                      },
                      "baxis": {
                        "gridcolor": "white",
                        "linecolor": "white",
                        "ticks": ""
                      },
                      "bgcolor": "#E5ECF6",
                      "caxis": {
                        "gridcolor": "white",
                        "linecolor": "white",
                        "ticks": ""
                      }
                    },
                    "title": {
                      "x": 0.05
                    },
                    "xaxis": {
                      "automargin": true,
                      "gridcolor": "white",
                      "linecolor": "white",
                      "ticks": "",
                      "title": {
                        "standoff": 15
                      },
                      "zerolinecolor": "white",
                      "zerolinewidth": 2
                    },
                    "yaxis": {
                      "automargin": true,
                      "gridcolor": "white",
                      "linecolor": "white",
                      "ticks": "",
                      "title": {
                        "standoff": 15
                      },
                      "zerolinecolor": "white",
                      "zerolinewidth": 2
                    }
                  }
                },
                "xaxis": {
                  "anchor": "y",
                  "domain": [
                    0,
                    1
                  ]
                },
                "yaxis": {
                  "anchor": "x",
                  "domain": [
                    0,
                    1
                  ],
                  "title": {
                    "text": "freq_trans"
                  }
                }
              }
            }
          },
          "metadata": {},
          "output_type": "display_data"
        },
        {
          "data": {
            "application/vnd.plotly.v1+json": {
              "config": {
                "plotlyServerURL": "https://plot.ly"
              },
              "data": [
                {
                  "alignmentgroup": "True",
                  "hovertemplate": "x=%{x}<br>y=%{y}<extra></extra>",
                  "legendgroup": "",
                  "marker": {
                    "color": "lightblue",
                    "pattern": {
                      "shape": ""
                    }
                  },
                  "name": "",
                  "offsetgroup": "",
                  "orientation": "v",
                  "showlegend": false,
                  "textposition": "auto",
                  "type": "bar",
                  "x": [
                    "Minimum Freq"
                  ],
                  "xaxis": "x",
                  "y": [
                    0.0006996122271173698
                  ],
                  "yaxis": "y"
                },
                {
                  "alignmentgroup": "True",
                  "hovertemplate": "x=%{x}<br>y=%{y}<extra></extra>",
                  "legendgroup": "",
                  "marker": {
                    "color": "turquoise",
                    "pattern": {
                      "shape": ""
                    }
                  },
                  "name": "",
                  "offsetgroup": "",
                  "orientation": "v",
                  "showlegend": false,
                  "textposition": "auto",
                  "type": "bar",
                  "x": [
                    "Mediane Freq"
                  ],
                  "xaxis": "x",
                  "y": [
                    0.0007824651446753689
                  ],
                  "yaxis": "y"
                },
                {
                  "alignmentgroup": "True",
                  "hovertemplate": "x=%{x}<br>y=%{y}<extra></extra>",
                  "legendgroup": "",
                  "marker": {
                    "color": "darkturquoise",
                    "pattern": {
                      "shape": ""
                    }
                  },
                  "name": "",
                  "offsetgroup": "",
                  "orientation": "v",
                  "showlegend": false,
                  "textposition": "auto",
                  "type": "bar",
                  "x": [
                    "Mean Freq"
                  ],
                  "xaxis": "x",
                  "y": [
                    0.0008064516129032266
                  ],
                  "yaxis": "y"
                },
                {
                  "alignmentgroup": "True",
                  "hovertemplate": "x=%{x}<br>y=%{y}<extra></extra>",
                  "legendgroup": "",
                  "marker": {
                    "color": "darkblue",
                    "pattern": {
                      "shape": ""
                    }
                  },
                  "name": "",
                  "offsetgroup": "",
                  "orientation": "v",
                  "showlegend": false,
                  "textposition": "auto",
                  "type": "bar",
                  "x": [
                    "Maximum Freq"
                  ],
                  "xaxis": "x",
                  "y": [
                    0.0012734898227163463
                  ],
                  "yaxis": "y"
                }
              ],
              "layout": {
                "barmode": "relative",
                "legend": {
                  "tracegroupgap": 0
                },
                "margin": {
                  "t": 60
                },
                "template": {
                  "data": {
                    "bar": [
                      {
                        "error_x": {
                          "color": "#2a3f5f"
                        },
                        "error_y": {
                          "color": "#2a3f5f"
                        },
                        "marker": {
                          "line": {
                            "color": "#E5ECF6",
                            "width": 0.5
                          },
                          "pattern": {
                            "fillmode": "overlay",
                            "size": 10,
                            "solidity": 0.2
                          }
                        },
                        "type": "bar"
                      }
                    ],
                    "barpolar": [
                      {
                        "marker": {
                          "line": {
                            "color": "#E5ECF6",
                            "width": 0.5
                          },
                          "pattern": {
                            "fillmode": "overlay",
                            "size": 10,
                            "solidity": 0.2
                          }
                        },
                        "type": "barpolar"
                      }
                    ],
                    "carpet": [
                      {
                        "aaxis": {
                          "endlinecolor": "#2a3f5f",
                          "gridcolor": "white",
                          "linecolor": "white",
                          "minorgridcolor": "white",
                          "startlinecolor": "#2a3f5f"
                        },
                        "baxis": {
                          "endlinecolor": "#2a3f5f",
                          "gridcolor": "white",
                          "linecolor": "white",
                          "minorgridcolor": "white",
                          "startlinecolor": "#2a3f5f"
                        },
                        "type": "carpet"
                      }
                    ],
                    "choropleth": [
                      {
                        "colorbar": {
                          "outlinewidth": 0,
                          "ticks": ""
                        },
                        "type": "choropleth"
                      }
                    ],
                    "contour": [
                      {
                        "colorbar": {
                          "outlinewidth": 0,
                          "ticks": ""
                        },
                        "colorscale": [
                          [
                            0,
                            "#0d0887"
                          ],
                          [
                            0.1111111111111111,
                            "#46039f"
                          ],
                          [
                            0.2222222222222222,
                            "#7201a8"
                          ],
                          [
                            0.3333333333333333,
                            "#9c179e"
                          ],
                          [
                            0.4444444444444444,
                            "#bd3786"
                          ],
                          [
                            0.5555555555555556,
                            "#d8576b"
                          ],
                          [
                            0.6666666666666666,
                            "#ed7953"
                          ],
                          [
                            0.7777777777777778,
                            "#fb9f3a"
                          ],
                          [
                            0.8888888888888888,
                            "#fdca26"
                          ],
                          [
                            1,
                            "#f0f921"
                          ]
                        ],
                        "type": "contour"
                      }
                    ],
                    "contourcarpet": [
                      {
                        "colorbar": {
                          "outlinewidth": 0,
                          "ticks": ""
                        },
                        "type": "contourcarpet"
                      }
                    ],
                    "heatmap": [
                      {
                        "colorbar": {
                          "outlinewidth": 0,
                          "ticks": ""
                        },
                        "colorscale": [
                          [
                            0,
                            "#0d0887"
                          ],
                          [
                            0.1111111111111111,
                            "#46039f"
                          ],
                          [
                            0.2222222222222222,
                            "#7201a8"
                          ],
                          [
                            0.3333333333333333,
                            "#9c179e"
                          ],
                          [
                            0.4444444444444444,
                            "#bd3786"
                          ],
                          [
                            0.5555555555555556,
                            "#d8576b"
                          ],
                          [
                            0.6666666666666666,
                            "#ed7953"
                          ],
                          [
                            0.7777777777777778,
                            "#fb9f3a"
                          ],
                          [
                            0.8888888888888888,
                            "#fdca26"
                          ],
                          [
                            1,
                            "#f0f921"
                          ]
                        ],
                        "type": "heatmap"
                      }
                    ],
                    "heatmapgl": [
                      {
                        "colorbar": {
                          "outlinewidth": 0,
                          "ticks": ""
                        },
                        "colorscale": [
                          [
                            0,
                            "#0d0887"
                          ],
                          [
                            0.1111111111111111,
                            "#46039f"
                          ],
                          [
                            0.2222222222222222,
                            "#7201a8"
                          ],
                          [
                            0.3333333333333333,
                            "#9c179e"
                          ],
                          [
                            0.4444444444444444,
                            "#bd3786"
                          ],
                          [
                            0.5555555555555556,
                            "#d8576b"
                          ],
                          [
                            0.6666666666666666,
                            "#ed7953"
                          ],
                          [
                            0.7777777777777778,
                            "#fb9f3a"
                          ],
                          [
                            0.8888888888888888,
                            "#fdca26"
                          ],
                          [
                            1,
                            "#f0f921"
                          ]
                        ],
                        "type": "heatmapgl"
                      }
                    ],
                    "histogram": [
                      {
                        "marker": {
                          "pattern": {
                            "fillmode": "overlay",
                            "size": 10,
                            "solidity": 0.2
                          }
                        },
                        "type": "histogram"
                      }
                    ],
                    "histogram2d": [
                      {
                        "colorbar": {
                          "outlinewidth": 0,
                          "ticks": ""
                        },
                        "colorscale": [
                          [
                            0,
                            "#0d0887"
                          ],
                          [
                            0.1111111111111111,
                            "#46039f"
                          ],
                          [
                            0.2222222222222222,
                            "#7201a8"
                          ],
                          [
                            0.3333333333333333,
                            "#9c179e"
                          ],
                          [
                            0.4444444444444444,
                            "#bd3786"
                          ],
                          [
                            0.5555555555555556,
                            "#d8576b"
                          ],
                          [
                            0.6666666666666666,
                            "#ed7953"
                          ],
                          [
                            0.7777777777777778,
                            "#fb9f3a"
                          ],
                          [
                            0.8888888888888888,
                            "#fdca26"
                          ],
                          [
                            1,
                            "#f0f921"
                          ]
                        ],
                        "type": "histogram2d"
                      }
                    ],
                    "histogram2dcontour": [
                      {
                        "colorbar": {
                          "outlinewidth": 0,
                          "ticks": ""
                        },
                        "colorscale": [
                          [
                            0,
                            "#0d0887"
                          ],
                          [
                            0.1111111111111111,
                            "#46039f"
                          ],
                          [
                            0.2222222222222222,
                            "#7201a8"
                          ],
                          [
                            0.3333333333333333,
                            "#9c179e"
                          ],
                          [
                            0.4444444444444444,
                            "#bd3786"
                          ],
                          [
                            0.5555555555555556,
                            "#d8576b"
                          ],
                          [
                            0.6666666666666666,
                            "#ed7953"
                          ],
                          [
                            0.7777777777777778,
                            "#fb9f3a"
                          ],
                          [
                            0.8888888888888888,
                            "#fdca26"
                          ],
                          [
                            1,
                            "#f0f921"
                          ]
                        ],
                        "type": "histogram2dcontour"
                      }
                    ],
                    "mesh3d": [
                      {
                        "colorbar": {
                          "outlinewidth": 0,
                          "ticks": ""
                        },
                        "type": "mesh3d"
                      }
                    ],
                    "parcoords": [
                      {
                        "line": {
                          "colorbar": {
                            "outlinewidth": 0,
                            "ticks": ""
                          }
                        },
                        "type": "parcoords"
                      }
                    ],
                    "pie": [
                      {
                        "automargin": true,
                        "type": "pie"
                      }
                    ],
                    "scatter": [
                      {
                        "marker": {
                          "colorbar": {
                            "outlinewidth": 0,
                            "ticks": ""
                          }
                        },
                        "type": "scatter"
                      }
                    ],
                    "scatter3d": [
                      {
                        "line": {
                          "colorbar": {
                            "outlinewidth": 0,
                            "ticks": ""
                          }
                        },
                        "marker": {
                          "colorbar": {
                            "outlinewidth": 0,
                            "ticks": ""
                          }
                        },
                        "type": "scatter3d"
                      }
                    ],
                    "scattercarpet": [
                      {
                        "marker": {
                          "colorbar": {
                            "outlinewidth": 0,
                            "ticks": ""
                          }
                        },
                        "type": "scattercarpet"
                      }
                    ],
                    "scattergeo": [
                      {
                        "marker": {
                          "colorbar": {
                            "outlinewidth": 0,
                            "ticks": ""
                          }
                        },
                        "type": "scattergeo"
                      }
                    ],
                    "scattergl": [
                      {
                        "marker": {
                          "colorbar": {
                            "outlinewidth": 0,
                            "ticks": ""
                          }
                        },
                        "type": "scattergl"
                      }
                    ],
                    "scattermapbox": [
                      {
                        "marker": {
                          "colorbar": {
                            "outlinewidth": 0,
                            "ticks": ""
                          }
                        },
                        "type": "scattermapbox"
                      }
                    ],
                    "scatterpolar": [
                      {
                        "marker": {
                          "colorbar": {
                            "outlinewidth": 0,
                            "ticks": ""
                          }
                        },
                        "type": "scatterpolar"
                      }
                    ],
                    "scatterpolargl": [
                      {
                        "marker": {
                          "colorbar": {
                            "outlinewidth": 0,
                            "ticks": ""
                          }
                        },
                        "type": "scatterpolargl"
                      }
                    ],
                    "scatterternary": [
                      {
                        "marker": {
                          "colorbar": {
                            "outlinewidth": 0,
                            "ticks": ""
                          }
                        },
                        "type": "scatterternary"
                      }
                    ],
                    "surface": [
                      {
                        "colorbar": {
                          "outlinewidth": 0,
                          "ticks": ""
                        },
                        "colorscale": [
                          [
                            0,
                            "#0d0887"
                          ],
                          [
                            0.1111111111111111,
                            "#46039f"
                          ],
                          [
                            0.2222222222222222,
                            "#7201a8"
                          ],
                          [
                            0.3333333333333333,
                            "#9c179e"
                          ],
                          [
                            0.4444444444444444,
                            "#bd3786"
                          ],
                          [
                            0.5555555555555556,
                            "#d8576b"
                          ],
                          [
                            0.6666666666666666,
                            "#ed7953"
                          ],
                          [
                            0.7777777777777778,
                            "#fb9f3a"
                          ],
                          [
                            0.8888888888888888,
                            "#fdca26"
                          ],
                          [
                            1,
                            "#f0f921"
                          ]
                        ],
                        "type": "surface"
                      }
                    ],
                    "table": [
                      {
                        "cells": {
                          "fill": {
                            "color": "#EBF0F8"
                          },
                          "line": {
                            "color": "white"
                          }
                        },
                        "header": {
                          "fill": {
                            "color": "#C8D4E3"
                          },
                          "line": {
                            "color": "white"
                          }
                        },
                        "type": "table"
                      }
                    ]
                  },
                  "layout": {
                    "annotationdefaults": {
                      "arrowcolor": "#2a3f5f",
                      "arrowhead": 0,
                      "arrowwidth": 1
                    },
                    "autotypenumbers": "strict",
                    "coloraxis": {
                      "colorbar": {
                        "outlinewidth": 0,
                        "ticks": ""
                      }
                    },
                    "colorscale": {
                      "diverging": [
                        [
                          0,
                          "#8e0152"
                        ],
                        [
                          0.1,
                          "#c51b7d"
                        ],
                        [
                          0.2,
                          "#de77ae"
                        ],
                        [
                          0.3,
                          "#f1b6da"
                        ],
                        [
                          0.4,
                          "#fde0ef"
                        ],
                        [
                          0.5,
                          "#f7f7f7"
                        ],
                        [
                          0.6,
                          "#e6f5d0"
                        ],
                        [
                          0.7,
                          "#b8e186"
                        ],
                        [
                          0.8,
                          "#7fbc41"
                        ],
                        [
                          0.9,
                          "#4d9221"
                        ],
                        [
                          1,
                          "#276419"
                        ]
                      ],
                      "sequential": [
                        [
                          0,
                          "#0d0887"
                        ],
                        [
                          0.1111111111111111,
                          "#46039f"
                        ],
                        [
                          0.2222222222222222,
                          "#7201a8"
                        ],
                        [
                          0.3333333333333333,
                          "#9c179e"
                        ],
                        [
                          0.4444444444444444,
                          "#bd3786"
                        ],
                        [
                          0.5555555555555556,
                          "#d8576b"
                        ],
                        [
                          0.6666666666666666,
                          "#ed7953"
                        ],
                        [
                          0.7777777777777778,
                          "#fb9f3a"
                        ],
                        [
                          0.8888888888888888,
                          "#fdca26"
                        ],
                        [
                          1,
                          "#f0f921"
                        ]
                      ],
                      "sequentialminus": [
                        [
                          0,
                          "#0d0887"
                        ],
                        [
                          0.1111111111111111,
                          "#46039f"
                        ],
                        [
                          0.2222222222222222,
                          "#7201a8"
                        ],
                        [
                          0.3333333333333333,
                          "#9c179e"
                        ],
                        [
                          0.4444444444444444,
                          "#bd3786"
                        ],
                        [
                          0.5555555555555556,
                          "#d8576b"
                        ],
                        [
                          0.6666666666666666,
                          "#ed7953"
                        ],
                        [
                          0.7777777777777778,
                          "#fb9f3a"
                        ],
                        [
                          0.8888888888888888,
                          "#fdca26"
                        ],
                        [
                          1,
                          "#f0f921"
                        ]
                      ]
                    },
                    "colorway": [
                      "#636efa",
                      "#EF553B",
                      "#00cc96",
                      "#ab63fa",
                      "#FFA15A",
                      "#19d3f3",
                      "#FF6692",
                      "#B6E880",
                      "#FF97FF",
                      "#FECB52"
                    ],
                    "font": {
                      "color": "#2a3f5f"
                    },
                    "geo": {
                      "bgcolor": "white",
                      "lakecolor": "white",
                      "landcolor": "#E5ECF6",
                      "showlakes": true,
                      "showland": true,
                      "subunitcolor": "white"
                    },
                    "hoverlabel": {
                      "align": "left"
                    },
                    "hovermode": "closest",
                    "mapbox": {
                      "style": "light"
                    },
                    "paper_bgcolor": "white",
                    "plot_bgcolor": "#E5ECF6",
                    "polar": {
                      "angularaxis": {
                        "gridcolor": "white",
                        "linecolor": "white",
                        "ticks": ""
                      },
                      "bgcolor": "#E5ECF6",
                      "radialaxis": {
                        "gridcolor": "white",
                        "linecolor": "white",
                        "ticks": ""
                      }
                    },
                    "scene": {
                      "xaxis": {
                        "backgroundcolor": "#E5ECF6",
                        "gridcolor": "white",
                        "gridwidth": 2,
                        "linecolor": "white",
                        "showbackground": true,
                        "ticks": "",
                        "zerolinecolor": "white"
                      },
                      "yaxis": {
                        "backgroundcolor": "#E5ECF6",
                        "gridcolor": "white",
                        "gridwidth": 2,
                        "linecolor": "white",
                        "showbackground": true,
                        "ticks": "",
                        "zerolinecolor": "white"
                      },
                      "zaxis": {
                        "backgroundcolor": "#E5ECF6",
                        "gridcolor": "white",
                        "gridwidth": 2,
                        "linecolor": "white",
                        "showbackground": true,
                        "ticks": "",
                        "zerolinecolor": "white"
                      }
                    },
                    "shapedefaults": {
                      "line": {
                        "color": "#2a3f5f"
                      }
                    },
                    "ternary": {
                      "aaxis": {
                        "gridcolor": "white",
                        "linecolor": "white",
                        "ticks": ""
                      },
                      "baxis": {
                        "gridcolor": "white",
                        "linecolor": "white",
                        "ticks": ""
                      },
                      "bgcolor": "#E5ECF6",
                      "caxis": {
                        "gridcolor": "white",
                        "linecolor": "white",
                        "ticks": ""
                      }
                    },
                    "title": {
                      "x": 0.05
                    },
                    "xaxis": {
                      "automargin": true,
                      "gridcolor": "white",
                      "linecolor": "white",
                      "ticks": "",
                      "title": {
                        "standoff": 15
                      },
                      "zerolinecolor": "white",
                      "zerolinewidth": 2
                    },
                    "yaxis": {
                      "automargin": true,
                      "gridcolor": "white",
                      "linecolor": "white",
                      "ticks": "",
                      "title": {
                        "standoff": 15
                      },
                      "zerolinecolor": "white",
                      "zerolinewidth": 2
                    }
                  }
                },
                "xaxis": {
                  "anchor": "y",
                  "domain": [
                    0,
                    1
                  ],
                  "title": {
                    "text": "Statistiques"
                  }
                },
                "yaxis": {
                  "anchor": "x",
                  "domain": [
                    0,
                    1
                  ],
                  "title": {
                    "text": "Fréquence"
                  }
                }
              }
            }
          },
          "metadata": {},
          "output_type": "display_data"
        }
      ],
      "source": [
        "Freq['freq_trans'] =  Freq['freq'] ** (1/10)\n",
        "Freq['freq_trans'] =  Freq['freq_trans']/Freq['freq_trans'].sum()\n",
        "fig = px.box(Freq, y='freq_trans')\n",
        "fig.show()\n",
        "col_trans = 'freq_trans'\n",
        "dic_trans = analyse(Freq,col_trans)\n",
        "fig = px.bar(x= list(dic_trans.keys()), y = list(dic_trans.values()), \n",
        "            color=['lightblue','turquoise','darkturquoise','darkblue'],\n",
        "            color_discrete_map=\"identity\")\n",
        "fig.update_layout(\n",
        "    xaxis_title=\"Statistiques\",\n",
        "    yaxis_title=\"Fréquence\")\n",
        "fig.show()"
      ]
    }
  ],
  "metadata": {
    "colab": {
      "collapsed_sections": [],
      "name": "Test technique ",
      "provenance": []
    },
    "kernelspec": {
      "display_name": "Python 3",
      "name": "python3"
    },
    "language_info": {
      "codemirror_mode": {
        "name": "ipython",
        "version": 3
      },
      "file_extension": ".py",
      "mimetype": "text/x-python",
      "name": "python",
      "nbconvert_exporter": "python",
      "pygments_lexer": "ipython3",
      "version": "3.9.7"
    }
  },
  "nbformat": 4,
  "nbformat_minor": 0
}
